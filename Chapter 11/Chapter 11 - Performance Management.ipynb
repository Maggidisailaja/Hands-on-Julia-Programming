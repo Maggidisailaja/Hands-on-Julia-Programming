{
 "cells": [
  {
   "cell_type": "markdown",
   "metadata": {},
   "source": [
    "# Chapter 11: Performance Management\n",
    "This notebook contains the sample source code explained in the book *Hands-On Julia Programming, Sambit Kumar Dash, 2021, bpb Publications. All Rights Reserved*.\n"
   ]
  },
  {
   "cell_type": "code",
   "execution_count": 1,
   "metadata": {},
   "outputs": [
    {
     "name": "stderr",
     "output_type": "stream",
     "text": [
      "\u001b[32m\u001b[1m  Activating\u001b[22m\u001b[39m environment at `~/work/books/HOPJ/Chapter-11/Project.toml`\n"
     ]
    }
   ],
   "source": [
    "using Pkg\n",
    "pkg\"activate .\"\n",
    "pkg\"instantiate\""
   ]
  },
  {
   "cell_type": "markdown",
   "metadata": {},
   "source": [
    "## 11.1 Introduction\n",
    "\n",
    "Optimization is an art. There is no absolute general purpose optimization for all the domains. \n",
    "\n",
    "### The Right Level of Optimization\n",
    "\n",
    "Sometimes you need to decide on optimization vs. accuracy trade offs. They can be domain specific. In the example below, we compute the value of `sin θ` by approximating `sin δ` for a small value `δ=15°`. We use the formula\n",
    "```sin (A+B) = sin A cos B + cos A sin B``` to interpolate for 6 angles 15° apart i.e. from 0° to 90°."
   ]
  },
  {
   "cell_type": "code",
   "execution_count": 2,
   "metadata": {},
   "outputs": [
    {
     "data": {
      "text/plain": [
       "(0.2617993877991494, 0.9657305402739953)"
      ]
     },
     "execution_count": 2,
     "metadata": {},
     "output_type": "execute_result"
    }
   ],
   "source": [
    "n = 6\n",
    "δ = pi/180*(90/n)\n",
    "sinδ, cosδ = δ, (1 - δ*δ/2) # <--- Approximation from Taylor's equation"
   ]
  },
  {
   "cell_type": "code",
   "execution_count": 3,
   "metadata": {},
   "outputs": [
    {
     "data": {
      "text/plain": [
       "7×2 Matrix{Float64}:\n",
       " 0.0        1.0\n",
       " 0.261799   0.965731\n",
       " 0.505655   0.864097\n",
       " 0.714547   0.702104\n",
       " 0.87387    0.490976\n",
       " 0.97246    0.245371\n",
       " 1.00337   -0.0176268"
      ]
     },
     "execution_count": 3,
     "metadata": {},
     "output_type": "execute_result"
    }
   ],
   "source": [
    "m = Matrix{Float64}(undef, (n+1, 2))\n",
    "m[1, 1], m[1, 2] = 0.0, 1.0\n",
    "for i = 1:n\n",
    "    m[i+1, 1] = m[i, 1]*cosδ + m[i, 2]*sinδ\n",
    "    m[i+1, 2] = m[i, 2]*cosδ - m[i, 1]*sinδ\n",
    "end\n",
    "m"
   ]
  },
  {
   "cell_type": "markdown",
   "metadata": {},
   "source": [
    "We compare the output obtained earlier with the computation from the Julia functions `sin` and `cos`. "
   ]
  },
  {
   "cell_type": "code",
   "execution_count": 4,
   "metadata": {},
   "outputs": [
    {
     "data": {
      "text/plain": [
       "7×2 Matrix{Float64}:\n",
       " 0.0       1.0\n",
       " 0.258819  0.965926\n",
       " 0.5       0.866025\n",
       " 0.707107  0.707107\n",
       " 0.866025  0.5\n",
       " 0.965926  0.258819\n",
       " 1.0       6.12323e-17"
      ]
     },
     "execution_count": 4,
     "metadata": {},
     "output_type": "execute_result"
    }
   ],
   "source": [
    "m1 = [[sin(i*δ) for i=0:n] [cos(i*δ) for i=0:n]] "
   ]
  },
  {
   "cell_type": "markdown",
   "metadata": {},
   "source": [
    "By comparing the mean and standard deviations of the both the tables, you can realize the approximation is a reasonable one. "
   ]
  },
  {
   "cell_type": "code",
   "execution_count": 5,
   "metadata": {},
   "outputs": [
    {
     "data": {
      "text/plain": [
       "(0.0009570353971457324, 0.00784842483267987)"
      ]
     },
     "execution_count": 5,
     "metadata": {},
     "output_type": "execute_result"
    }
   ],
   "source": [
    "using Statistics\n",
    "mean(m1-m), std(m1-m)"
   ]
  },
  {
   "cell_type": "markdown",
   "metadata": {},
   "source": [
    "### Resources\n",
    "\n",
    "However much resources you have, there will be one problem that will require way beyond the resources you can expend. \n",
    "\n",
    "### The Choice of Algorithm\n",
    "\n",
    "Always use the most effective algorithm for your problem. The most effective algorithm may not be the one with the best asymptotic performance. \n",
    "\n",
    "### Optimize Wisely\n",
    "\n",
    "Optimizing every piece of code is a waste of time and energy. Judiciously choose the code that will give the best returns for the time you spend fixing it. Profiling is a great way to discover such code. \n",
    "\n",
    "### Julia vs. Competition\n",
    "\n",
    "Julia outperforms the competition in many micro-benchmark tests performed. The performance report can be obtained from https://julialang.org/benchmarks/\n",
    "\n",
    "## 11.2 Benchmarking\n",
    "\n",
    "`sin(x)` function assumes the variable `x` is in radians. However, we will use a function `sindeg(x)` where `x` is in degrees. We shall also evaluate if `sin(x)` function available in Julia Base is the one we should use or approximate with a table lookup scheme we discussed. \n",
    "\n",
    "We use `BenchmarkTools` to evaluate the time and space performance of the code. If the package is not installed, you can install the package using the command: ``` julia> ]add BenchmarkTools ```. "
   ]
  },
  {
   "cell_type": "code",
   "execution_count": 6,
   "metadata": {},
   "outputs": [],
   "source": [
    "using BenchmarkTools"
   ]
  },
  {
   "cell_type": "code",
   "execution_count": 7,
   "metadata": {},
   "outputs": [
    {
     "data": {
      "text/plain": [
       "cos ∘ deg2rad"
      ]
     },
     "execution_count": 7,
     "metadata": {},
     "output_type": "execute_result"
    }
   ],
   "source": [
    "deg2rad(x) = pi/180.0*x\n",
    "sindeg = sin ∘ deg2rad\n",
    "cosdeg = cos ∘ deg2rad"
   ]
  },
  {
   "cell_type": "markdown",
   "metadata": {},
   "source": [
    "`@benchmark` shall run the code several times, aggregate the performance over several samples and report the statistics of the result. The minimum time is a better estimate as it is with the least system overheads or noise. "
   ]
  },
  {
   "cell_type": "code",
   "execution_count": 8,
   "metadata": {},
   "outputs": [
    {
     "data": {
      "text/plain": [
       "BenchmarkTools.Trial: \n",
       "  memory estimate:  16 bytes\n",
       "  allocs estimate:  1\n",
       "  --------------\n",
       "  minimum time:     25.044 ns (0.00% GC)\n",
       "  median time:      34.075 ns (0.00% GC)\n",
       "  mean time:        41.921 ns (1.23% GC)\n",
       "  maximum time:     2.125 μs (96.15% GC)\n",
       "  --------------\n",
       "  samples:          10000\n",
       "  evals/sample:     994"
      ]
     },
     "execution_count": 8,
     "metadata": {},
     "output_type": "execute_result"
    }
   ],
   "source": [
    "@benchmark sindeg(52.0)"
   ]
  },
  {
   "cell_type": "markdown",
   "metadata": {},
   "source": [
    "`@btime` reports the results like `@time`, reporting the allocations and minimum time elapsed in a single function call while running the function over multiple sample runs. We shall be using `@btime` in most of our examples. "
   ]
  },
  {
   "cell_type": "code",
   "execution_count": 9,
   "metadata": {},
   "outputs": [
    {
     "name": "stdout",
     "output_type": "stream",
     "text": [
      "  24.716 ns (1 allocation: 16 bytes)\n"
     ]
    },
    {
     "data": {
      "text/plain": [
       "0.788010753606722"
      ]
     },
     "execution_count": 9,
     "metadata": {},
     "output_type": "execute_result"
    }
   ],
   "source": [
    "@btime sindeg(52.0)"
   ]
  },
  {
   "cell_type": "markdown",
   "metadata": {},
   "source": [
    "We create a memoization lookup with 6 intermediate values from 0 to 90 degrees, each at 15 degrees interval. For values within an interval range we use the `sin(A + δ)` expression with approximated values for `sin δ` and `cos δ` as we have shown earlier. "
   ]
  },
  {
   "cell_type": "code",
   "execution_count": 10,
   "metadata": {},
   "outputs": [
    {
     "data": {
      "text/plain": [
       "step (generic function with 1 method)"
      ]
     },
     "execution_count": 10,
     "metadata": {},
     "output_type": "execute_result"
    }
   ],
   "source": [
    "struct MemoLookup\n",
    "    n\n",
    "    lookup\n",
    "    function MemoLookup(n)   \n",
    "        step = 90/n\n",
    "        δ = pi/180*step\n",
    "        lookup = [[sin(i*δ) for i=0:n] [cos(i*δ) for i=0:n]]\n",
    "        new(n, lookup)\n",
    "    end\n",
    "end\n",
    "step(m::MemoLookup) = 90/m.n"
   ]
  },
  {
   "cell_type": "code",
   "execution_count": 11,
   "metadata": {},
   "outputs": [
    {
     "data": {
      "text/plain": [
       "sindegmemo (generic function with 1 method)"
      ]
     },
     "execution_count": 11,
     "metadata": {},
     "output_type": "execute_result"
    }
   ],
   "source": [
    "m = MemoLookup(6)\n",
    "function sindegmemo(m::MemoLookup, x)\n",
    "    s, lookup = step(m), m.lookup\n",
    "    i = 1\n",
    "    while x >= s\n",
    "        x -= s\n",
    "        i += 1\n",
    "    end\n",
    "    iszero(x) && return lookup[i, 1]\n",
    "    x = deg2rad(x)\n",
    "    sinx, cosx = x, 1 - x*x/2\n",
    "    return lookup[i, 1]*cosx + lookup[i, 2]*sinx\n",
    "end"
   ]
  },
  {
   "cell_type": "code",
   "execution_count": 12,
   "metadata": {},
   "outputs": [
    {
     "data": {
      "text/plain": [
       "BenchmarkTools.Trial: \n",
       "  memory estimate:  208 bytes\n",
       "  allocs estimate:  13\n",
       "  --------------\n",
       "  minimum time:     337.192 ns (0.00% GC)\n",
       "  median time:      424.865 ns (0.00% GC)\n",
       "  mean time:        531.337 ns (1.51% GC)\n",
       "  maximum time:     13.200 μs (91.72% GC)\n",
       "  --------------\n",
       "  samples:          10000\n",
       "  evals/sample:     208"
      ]
     },
     "execution_count": 12,
     "metadata": {},
     "output_type": "execute_result"
    }
   ],
   "source": [
    "@benchmark sindegmemo($m, 52) "
   ]
  },
  {
   "cell_type": "markdown",
   "metadata": {},
   "source": [
    "The code is slower than what was earlier computed. There are 13 allocations and 208 bytes of additional memory needed for the computation. What can explain such allocations? Frequent yet small chunks of memory allocation can be a significant performance overhead. "
   ]
  },
  {
   "cell_type": "markdown",
   "metadata": {},
   "source": [
    "## 11.3 Code Generation Tools\n",
    "\n",
    "We will look at the ASTs and intermediate code that will be generated to get an understanding of how the code will be processed. These are some of the best ways to debug and fix non-performing code. "
   ]
  },
  {
   "cell_type": "markdown",
   "metadata": {},
   "source": [
    "### Type Stability\n",
    "\n",
    "We discussed about type stability earlier and know that non-deterministic types can lead to inefficient code. Let's evaluate if the code above has types that cannot be inferred deterministically. "
   ]
  },
  {
   "cell_type": "code",
   "execution_count": 13,
   "metadata": {},
   "outputs": [
    {
     "name": "stdout",
     "output_type": "stream",
     "text": [
      "Variables\n",
      "  #self#\u001b[36m::Core.Const(sindegmemo)\u001b[39m\n",
      "  m\u001b[36m::MemoLookup\u001b[39m\n",
      "  x@_3\u001b[36m::Int64\u001b[39m\n",
      "  cosx\u001b[91m\u001b[1m::Any\u001b[22m\u001b[39m\n",
      "  sinx\u001b[91m\u001b[1m::Any\u001b[22m\u001b[39m\n",
      "  i\u001b[36m::Int64\u001b[39m\n",
      "  lookup\u001b[91m\u001b[1m::Any\u001b[22m\u001b[39m\n",
      "  s\u001b[91m\u001b[1m::Any\u001b[22m\u001b[39m\n",
      "  x@_9\u001b[91m\u001b[1m::Any\u001b[22m\u001b[39m\n",
      "\n",
      "Body\u001b[91m\u001b[1m::Any\u001b[22m\u001b[39m\n",
      "\u001b[90m1 ─\u001b[39m       (x@_9 = x@_3)\n",
      "\u001b[90m│  \u001b[39m       Core.NewvarNode(:(cosx))\n",
      "\u001b[90m│  \u001b[39m       Core.NewvarNode(:(sinx))\n",
      "\u001b[90m│  \u001b[39m %4  = Main.step(m)\u001b[91m\u001b[1m::Any\u001b[22m\u001b[39m\n",
      "\u001b[90m│  \u001b[39m %5  = Base.getproperty(m, :lookup)\u001b[91m\u001b[1m::Any\u001b[22m\u001b[39m\n",
      "\u001b[90m│  \u001b[39m       (s = %4)\n",
      "\u001b[90m│  \u001b[39m       (lookup = %5)\n",
      "\u001b[90m└──\u001b[39m       (i = 1)\n",
      "\u001b[90m2 ┄\u001b[39m %9  = (x@_9 >= s)\u001b[91m\u001b[1m::Any\u001b[22m\u001b[39m\n",
      "\u001b[90m└──\u001b[39m       goto #4 if not %9\n",
      "\u001b[90m3 ─\u001b[39m       (x@_9 = x@_9 - s)\n",
      "\u001b[90m│  \u001b[39m       (i = i + 1)\n",
      "\u001b[90m└──\u001b[39m       goto #2\n",
      "\u001b[90m4 ─\u001b[39m %14 = Main.iszero(x@_9)\u001b[91m\u001b[1m::Any\u001b[22m\u001b[39m\n",
      "\u001b[90m└──\u001b[39m       goto #6 if not %14\n",
      "\u001b[90m5 ─\u001b[39m %16 = Base.getindex(lookup, i, 1)\u001b[91m\u001b[1m::Any\u001b[22m\u001b[39m\n",
      "\u001b[90m└──\u001b[39m       return %16\n",
      "\u001b[90m6 ─\u001b[39m       (x@_9 = Main.deg2rad(x@_9))\n",
      "\u001b[90m│  \u001b[39m       (sinx = x@_9)\n",
      "\u001b[90m│  \u001b[39m %20 = (x@_9 * x@_9)\u001b[91m\u001b[1m::Any\u001b[22m\u001b[39m\n",
      "\u001b[90m│  \u001b[39m %21 = (%20 / 2)\u001b[91m\u001b[1m::Any\u001b[22m\u001b[39m\n",
      "\u001b[90m│  \u001b[39m %22 = (1 - %21)\u001b[91m\u001b[1m::Any\u001b[22m\u001b[39m\n",
      "\u001b[90m│  \u001b[39m       (cosx = %22)\n",
      "\u001b[90m│  \u001b[39m %24 = Base.getindex(lookup, i, 1)\u001b[91m\u001b[1m::Any\u001b[22m\u001b[39m\n",
      "\u001b[90m│  \u001b[39m %25 = (%24 * cosx)\u001b[91m\u001b[1m::Any\u001b[22m\u001b[39m\n",
      "\u001b[90m│  \u001b[39m %26 = Base.getindex(lookup, i, 2)\u001b[91m\u001b[1m::Any\u001b[22m\u001b[39m\n",
      "\u001b[90m│  \u001b[39m %27 = (%26 * sinx)\u001b[91m\u001b[1m::Any\u001b[22m\u001b[39m\n",
      "\u001b[90m│  \u001b[39m %28 = (%25 + %27)\u001b[91m\u001b[1m::Any\u001b[22m\u001b[39m\n",
      "\u001b[90m└──\u001b[39m       return %28\n"
     ]
    }
   ],
   "source": [
    "@code_warntype sindegmemo(m, 52)"
   ]
  },
  {
   "cell_type": "markdown",
   "metadata": {},
   "source": [
    "There are many variables assigned to the type `Any`. This essentially means there will be an allocation for the location of memory and indirection to actual `Float64` value during computation. We will add a type to the declaration for the parameter `x`. "
   ]
  },
  {
   "cell_type": "code",
   "execution_count": 14,
   "metadata": {},
   "outputs": [
    {
     "data": {
      "text/plain": [
       "sindegmemo (generic function with 2 methods)"
      ]
     },
     "execution_count": 14,
     "metadata": {},
     "output_type": "execute_result"
    }
   ],
   "source": [
    "function sindegmemo(m::MemoLookup, x::Float64)\n",
    "    s, lookup = step(m), m.lookup\n",
    "    i = 1\n",
    "    while x >= s\n",
    "        x -= s\n",
    "        i += 1\n",
    "    end\n",
    "    iszero(x) && return lookup[i, 1]\n",
    "    x = deg2rad(x)\n",
    "    sinx, cosx = x, 1 - x*x/2\n",
    "    return lookup[i, 1]*cosx + lookup[i, 2]*sinx\n",
    "end"
   ]
  },
  {
   "cell_type": "code",
   "execution_count": 15,
   "metadata": {},
   "outputs": [
    {
     "name": "stdout",
     "output_type": "stream",
     "text": [
      "Variables\n",
      "  #self#\u001b[36m::Core.Const(sindegmemo)\u001b[39m\n",
      "  m\u001b[36m::MemoLookup\u001b[39m\n",
      "  x@_3\u001b[36m::Float64\u001b[39m\n",
      "  cosx\u001b[91m\u001b[1m::Any\u001b[22m\u001b[39m\n",
      "  sinx\u001b[91m\u001b[1m::Any\u001b[22m\u001b[39m\n",
      "  i\u001b[36m::Int64\u001b[39m\n",
      "  lookup\u001b[91m\u001b[1m::Any\u001b[22m\u001b[39m\n",
      "  s\u001b[91m\u001b[1m::Any\u001b[22m\u001b[39m\n",
      "  x@_9\u001b[91m\u001b[1m::Any\u001b[22m\u001b[39m\n",
      "\n",
      "Body\u001b[91m\u001b[1m::Any\u001b[22m\u001b[39m\n",
      "\u001b[90m1 ─\u001b[39m       (x@_9 = x@_3)\n",
      "\u001b[90m│  \u001b[39m       Core.NewvarNode(:(cosx))\n",
      "\u001b[90m│  \u001b[39m       Core.NewvarNode(:(sinx))\n",
      "\u001b[90m│  \u001b[39m %4  = Main.step(m)\u001b[91m\u001b[1m::Any\u001b[22m\u001b[39m\n",
      "\u001b[90m│  \u001b[39m %5  = Base.getproperty(m, :lookup)\u001b[91m\u001b[1m::Any\u001b[22m\u001b[39m\n",
      "\u001b[90m│  \u001b[39m       (s = %4)\n",
      "\u001b[90m│  \u001b[39m       (lookup = %5)\n",
      "\u001b[90m└──\u001b[39m       (i = 1)\n",
      "\u001b[90m2 ┄\u001b[39m %9  = (x@_9 >= s)\u001b[91m\u001b[1m::Any\u001b[22m\u001b[39m\n",
      "\u001b[90m└──\u001b[39m       goto #4 if not %9\n",
      "\u001b[90m3 ─\u001b[39m       (x@_9 = x@_9 - s)\n",
      "\u001b[90m│  \u001b[39m       (i = i + 1)\n",
      "\u001b[90m└──\u001b[39m       goto #2\n",
      "\u001b[90m4 ─\u001b[39m %14 = Main.iszero(x@_9)\u001b[91m\u001b[1m::Any\u001b[22m\u001b[39m\n",
      "\u001b[90m└──\u001b[39m       goto #6 if not %14\n",
      "\u001b[90m5 ─\u001b[39m %16 = Base.getindex(lookup, i, 1)\u001b[91m\u001b[1m::Any\u001b[22m\u001b[39m\n",
      "\u001b[90m└──\u001b[39m       return %16\n",
      "\u001b[90m6 ─\u001b[39m       (x@_9 = Main.deg2rad(x@_9))\n",
      "\u001b[90m│  \u001b[39m       (sinx = x@_9)\n",
      "\u001b[90m│  \u001b[39m %20 = (x@_9 * x@_9)\u001b[91m\u001b[1m::Any\u001b[22m\u001b[39m\n",
      "\u001b[90m│  \u001b[39m %21 = (%20 / 2)\u001b[91m\u001b[1m::Any\u001b[22m\u001b[39m\n",
      "\u001b[90m│  \u001b[39m %22 = (1 - %21)\u001b[91m\u001b[1m::Any\u001b[22m\u001b[39m\n",
      "\u001b[90m│  \u001b[39m       (cosx = %22)\n",
      "\u001b[90m│  \u001b[39m %24 = Base.getindex(lookup, i, 1)\u001b[91m\u001b[1m::Any\u001b[22m\u001b[39m\n",
      "\u001b[90m│  \u001b[39m %25 = (%24 * cosx)\u001b[91m\u001b[1m::Any\u001b[22m\u001b[39m\n",
      "\u001b[90m│  \u001b[39m %26 = Base.getindex(lookup, i, 2)\u001b[91m\u001b[1m::Any\u001b[22m\u001b[39m\n",
      "\u001b[90m│  \u001b[39m %27 = (%26 * sinx)\u001b[91m\u001b[1m::Any\u001b[22m\u001b[39m\n",
      "\u001b[90m│  \u001b[39m %28 = (%25 + %27)\u001b[91m\u001b[1m::Any\u001b[22m\u001b[39m\n",
      "\u001b[90m└──\u001b[39m       return %28\n"
     ]
    }
   ],
   "source": [
    "@code_warntype sindegmemo(m, 52.0)"
   ]
  },
  {
   "cell_type": "markdown",
   "metadata": {},
   "source": [
    "A few variables got a deterministic type assignment, yet we have quite a few still assigned with the type `Any`. They are mostly associated with the attribute `lookup` of the `MemoLookup` type. "
   ]
  },
  {
   "cell_type": "code",
   "execution_count": 16,
   "metadata": {},
   "outputs": [
    {
     "data": {
      "text/plain": [
       "step (generic function with 2 methods)"
      ]
     },
     "execution_count": 16,
     "metadata": {},
     "output_type": "execute_result"
    }
   ],
   "source": [
    "struct MemoLookup2\n",
    "    n::Int\n",
    "    lookup::Matrix{Float64}\n",
    "    function MemoLookup2(n)\n",
    "        step = 90/n\n",
    "        δ = pi/180*step\n",
    "        lookup = [[sin(i*δ) for i=0:n] [cos(i*δ) for i=0:n]]\n",
    "        new(n, lookup)\n",
    "    end\n",
    "end\n",
    "step(m::MemoLookup2) = 90/m.n"
   ]
  },
  {
   "cell_type": "code",
   "execution_count": 17,
   "metadata": {},
   "outputs": [
    {
     "data": {
      "text/plain": [
       "sindegmemo (generic function with 3 methods)"
      ]
     },
     "execution_count": 17,
     "metadata": {},
     "output_type": "execute_result"
    }
   ],
   "source": [
    "m2 = MemoLookup2(6)\n",
    "function sindegmemo(m::MemoLookup2, x::Float64)\n",
    "    s, lookup = step(m), m.lookup\n",
    "    i = 1\n",
    "    while x >= s\n",
    "        x -= s\n",
    "        i += 1\n",
    "    end\n",
    "    iszero(x) && return lookup[i, 1]\n",
    "    x = deg2rad(x)\n",
    "    sinx, cosx = x, 1 - x*x/2\n",
    "    return lookup[i, 1]*cosx + lookup[i, 2]*sinx\n",
    "end"
   ]
  },
  {
   "cell_type": "markdown",
   "metadata": {},
   "source": [
    "By eliminating the type ambiguities in the `MemoLookup2` type, we removed all the type ambiguities. "
   ]
  },
  {
   "cell_type": "code",
   "execution_count": 18,
   "metadata": {},
   "outputs": [
    {
     "name": "stdout",
     "output_type": "stream",
     "text": [
      "Variables\n",
      "  #self#\u001b[36m::Core.Const(sindegmemo)\u001b[39m\n",
      "  m\u001b[36m::MemoLookup2\u001b[39m\n",
      "  x@_3\u001b[36m::Float64\u001b[39m\n",
      "  cosx\u001b[36m::Float64\u001b[39m\n",
      "  sinx\u001b[36m::Float64\u001b[39m\n",
      "  i\u001b[36m::Int64\u001b[39m\n",
      "  lookup\u001b[36m::Matrix{Float64}\u001b[39m\n",
      "  s\u001b[36m::Float64\u001b[39m\n",
      "  x@_9\u001b[36m::Float64\u001b[39m\n",
      "\n",
      "Body\u001b[36m::Float64\u001b[39m\n",
      "\u001b[90m1 ─\u001b[39m       (x@_9 = x@_3)\n",
      "\u001b[90m│  \u001b[39m       Core.NewvarNode(:(cosx))\n",
      "\u001b[90m│  \u001b[39m       Core.NewvarNode(:(sinx))\n",
      "\u001b[90m│  \u001b[39m %4  = Main.step(m)\u001b[36m::Float64\u001b[39m\n",
      "\u001b[90m│  \u001b[39m %5  = Base.getproperty(m, :lookup)\u001b[36m::Matrix{Float64}\u001b[39m\n",
      "\u001b[90m│  \u001b[39m       (s = %4)\n",
      "\u001b[90m│  \u001b[39m       (lookup = %5)\n",
      "\u001b[90m└──\u001b[39m       (i = 1)\n",
      "\u001b[90m2 ┄\u001b[39m %9  = (x@_9 >= s)\u001b[36m::Bool\u001b[39m\n",
      "\u001b[90m└──\u001b[39m       goto #4 if not %9\n",
      "\u001b[90m3 ─\u001b[39m       (x@_9 = x@_9 - s)\n",
      "\u001b[90m│  \u001b[39m       (i = i + 1)\n",
      "\u001b[90m└──\u001b[39m       goto #2\n",
      "\u001b[90m4 ─\u001b[39m %14 = Main.iszero(x@_9)\u001b[36m::Bool\u001b[39m\n",
      "\u001b[90m└──\u001b[39m       goto #6 if not %14\n",
      "\u001b[90m5 ─\u001b[39m %16 = Base.getindex(lookup, i, 1)\u001b[36m::Float64\u001b[39m\n",
      "\u001b[90m└──\u001b[39m       return %16\n",
      "\u001b[90m6 ─\u001b[39m       (x@_9 = Main.deg2rad(x@_9))\n",
      "\u001b[90m│  \u001b[39m       (sinx = x@_9)\n",
      "\u001b[90m│  \u001b[39m %20 = (x@_9 * x@_9)\u001b[36m::Float64\u001b[39m\n",
      "\u001b[90m│  \u001b[39m %21 = (%20 / 2)\u001b[36m::Float64\u001b[39m\n",
      "\u001b[90m│  \u001b[39m %22 = (1 - %21)\u001b[36m::Float64\u001b[39m\n",
      "\u001b[90m│  \u001b[39m       (cosx = %22)\n",
      "\u001b[90m│  \u001b[39m %24 = Base.getindex(lookup, i, 1)\u001b[36m::Float64\u001b[39m\n",
      "\u001b[90m│  \u001b[39m %25 = (%24 * cosx)\u001b[36m::Float64\u001b[39m\n",
      "\u001b[90m│  \u001b[39m %26 = Base.getindex(lookup, i, 2)\u001b[36m::Float64\u001b[39m\n",
      "\u001b[90m│  \u001b[39m %27 = (%26 * sinx)\u001b[36m::Float64\u001b[39m\n",
      "\u001b[90m│  \u001b[39m %28 = (%25 + %27)\u001b[36m::Float64\u001b[39m\n",
      "\u001b[90m└──\u001b[39m       return %28\n"
     ]
    }
   ],
   "source": [
    "@code_warntype sindegmemo(m2, 52.0)"
   ]
  },
  {
   "cell_type": "markdown",
   "metadata": {},
   "source": [
    "The execution performance has improved and there are no additional allocations."
   ]
  },
  {
   "cell_type": "code",
   "execution_count": 19,
   "metadata": {},
   "outputs": [
    {
     "name": "stdout",
     "output_type": "stream",
     "text": [
      "  16.225 ns (0 allocations: 0 bytes)\n"
     ]
    },
    {
     "data": {
      "text/plain": [
       "0.788218944092369"
      ]
     },
     "execution_count": 19,
     "metadata": {},
     "output_type": "execute_result"
    }
   ],
   "source": [
    "@btime sindegmemo($m2, 52.0)  "
   ]
  },
  {
   "cell_type": "code",
   "execution_count": 20,
   "metadata": {},
   "outputs": [
    {
     "name": "stdout",
     "output_type": "stream",
     "text": [
      "  25.171 ns (1 allocation: 16 bytes)\n"
     ]
    },
    {
     "data": {
      "text/plain": [
       "0.788010753606722"
      ]
     },
     "execution_count": 20,
     "metadata": {},
     "output_type": "execute_result"
    }
   ],
   "source": [
    "@btime sindeg(52.0)"
   ]
  },
  {
   "cell_type": "code",
   "execution_count": 21,
   "metadata": {},
   "outputs": [
    {
     "name": "stdout",
     "output_type": "stream",
     "text": [
      "Variables\n",
      "  c\u001b[36m::Core.Const(sin ∘ deg2rad)\u001b[39m\n",
      "  x\u001b[36m::Tuple{Float64}\u001b[39m\n",
      "\n",
      "Body\u001b[36m::Float64\u001b[39m\n",
      "\u001b[90m1 ─\u001b[39m %1 = Base.getproperty(c, :outer)\u001b[36m::Core.Const(sin)\u001b[39m\n",
      "\u001b[90m│  \u001b[39m %2 = Base.getproperty(c, :inner)\u001b[36m::Core.Const(deg2rad)\u001b[39m\n",
      "\u001b[90m│  \u001b[39m %3 = Core._apply_iterate(Base.iterate, %2, x)\u001b[36m::Float64\u001b[39m\n",
      "\u001b[90m│  \u001b[39m %4 = (%1)(%3)\u001b[36m::Float64\u001b[39m\n",
      "\u001b[90m└──\u001b[39m      return %4\n"
     ]
    }
   ],
   "source": [
    "@code_warntype sindeg(52.0)"
   ]
  },
  {
   "cell_type": "markdown",
   "metadata": {},
   "source": [
    "`sindeg` is a variable that is assigned an anonymous function. Since the anonymous function has a variable argument, that has to be created in every run as a tuple with the parameter value (52.0 is this case) of the function."
   ]
  },
  {
   "cell_type": "code",
   "execution_count": 22,
   "metadata": {},
   "outputs": [
    {
     "data": {
      "text/plain": [
       "ComposedFunction{typeof(sin), typeof(deg2rad)}"
      ]
     },
     "execution_count": 22,
     "metadata": {},
     "output_type": "execute_result"
    }
   ],
   "source": [
    "typeof(sindeg)"
   ]
  },
  {
   "cell_type": "markdown",
   "metadata": {},
   "source": [
    "We will rewrite as simple function call. "
   ]
  },
  {
   "cell_type": "code",
   "execution_count": 23,
   "metadata": {},
   "outputs": [
    {
     "name": "stdout",
     "output_type": "stream",
     "text": [
      "  1.882 ns (0 allocations: 0 bytes)\n"
     ]
    },
    {
     "data": {
      "text/plain": [
       "0.49999999999999994"
      ]
     },
     "execution_count": 23,
     "metadata": {},
     "output_type": "execute_result"
    }
   ],
   "source": [
    "sindeg2(x) = sin(deg2rad(x))\n",
    "@btime sindeg2(30)"
   ]
  },
  {
   "cell_type": "markdown",
   "metadata": {},
   "source": [
    "The equivalent function call in Julia `sind(x)` has almost similar performance. And we can consider that as a reasonable benchmark for our code. "
   ]
  },
  {
   "cell_type": "code",
   "execution_count": 24,
   "metadata": {},
   "outputs": [
    {
     "name": "stdout",
     "output_type": "stream",
     "text": [
      "  1.816 ns (0 allocations: 0 bytes)\n"
     ]
    },
    {
     "data": {
      "text/plain": [
       "0.5"
      ]
     },
     "execution_count": 24,
     "metadata": {},
     "output_type": "execute_result"
    }
   ],
   "source": [
    "@btime sind(30)"
   ]
  },
  {
   "cell_type": "markdown",
   "metadata": {},
   "source": [
    "`sindegmemo(m2, 52.0)` with 19.25ns elapsed time definitely is off from a reasonable performance. "
   ]
  },
  {
   "cell_type": "code",
   "execution_count": 25,
   "metadata": {},
   "outputs": [
    {
     "data": {
      "text/plain": [
       "MemoLookupP{6}([0.0 1.0; 0.25881904510252074 0.9659258262890683; … ; 0.9659258262890682 0.25881904510252096; 1.0 6.123233995736766e-17])"
      ]
     },
     "execution_count": 25,
     "metadata": {},
     "output_type": "execute_result"
    }
   ],
   "source": [
    "struct MemoLookupP{N}\n",
    "    lookup::Matrix{Float64}\n",
    "    function MemoLookupP{N}() where N\n",
    "        δ = pi/2N\n",
    "        lookup = [[sin(i*δ) for i=0:N] [cos(i*δ) for i=0:N]]\n",
    "        new{N}(lookup)\n",
    "    end\n",
    "end\n",
    "step(m::MemoLookupP{N}) where N = 90.0/N\n",
    "const m3 = MemoLookupP{6}()"
   ]
  },
  {
   "cell_type": "code",
   "execution_count": 26,
   "metadata": {},
   "outputs": [
    {
     "data": {
      "text/plain": [
       "sindegmemo (generic function with 4 methods)"
      ]
     },
     "execution_count": 26,
     "metadata": {},
     "output_type": "execute_result"
    }
   ],
   "source": [
    "function sindegmemo(m::MemoLookupP, x::Float64)\n",
    "    s, lookup = step(m), m.lookup\n",
    "    i = 1\n",
    "    while x >= s\n",
    "        x -= s\n",
    "        i += 1\n",
    "    end\n",
    "    x, sini = deg2rad(x), lookup[i, 1]\n",
    "    iszero(x) && return sini\n",
    "    sinx, cosx, cosi = x, 1 - x*x/2, lookup[i, 2]\n",
    "    return sini*cosx + cosi*sinx\n",
    "end"
   ]
  },
  {
   "cell_type": "markdown",
   "metadata": {},
   "source": [
    "19.2ns to 13ns is a significant improvement but still not close to the `sind(x)` performance. "
   ]
  },
  {
   "cell_type": "code",
   "execution_count": 27,
   "metadata": {},
   "outputs": [
    {
     "name": "stdout",
     "output_type": "stream",
     "text": [
      "  1.825 ns (0 allocations: 0 bytes)\n"
     ]
    },
    {
     "data": {
      "text/plain": [
       "0.8660254037844386"
      ]
     },
     "execution_count": 27,
     "metadata": {},
     "output_type": "execute_result"
    }
   ],
   "source": [
    "@btime sindegmemo(m3, 60.0)"
   ]
  },
  {
   "cell_type": "code",
   "execution_count": 28,
   "metadata": {},
   "outputs": [
    {
     "name": "stdout",
     "output_type": "stream",
     "text": [
      "\u001b[90m;  @ In[26]:1 within `sindegmemo'\u001b[39m\n",
      "\u001b[95mdefine\u001b[39m \u001b[36mdouble\u001b[39m \u001b[93m@julia_sindegmemo_3317\u001b[39m\u001b[33m(\u001b[39m\u001b[33m[\u001b[39m\u001b[33m1\u001b[39m \u001b[0mx \u001b[33m{\u001b[39m\u001b[33m}\u001b[39m\u001b[0m*\u001b[33m]\u001b[39m\u001b[0m* \u001b[95mnocapture\u001b[39m \u001b[95mnonnull\u001b[39m \u001b[95mreadonly\u001b[39m \u001b[95malign\u001b[39m \u001b[33m8\u001b[39m \u001b[95mdereferenceable\u001b[39m\u001b[33m(\u001b[39m\u001b[33m8\u001b[39m\u001b[33m)\u001b[39m \u001b[0m%0\u001b[0m, \u001b[36mdouble\u001b[39m \u001b[0m%1\u001b[33m)\u001b[39m \u001b[33m{\u001b[39m\n",
      "\u001b[91mtop:\u001b[39m\n",
      "\u001b[90m;  @ In[26]:2 within `sindegmemo'\u001b[39m\n",
      "\u001b[90m; ┌ @ Base.jl:33 within `getproperty'\u001b[39m\n",
      "   \u001b[0m%2 \u001b[0m= \u001b[96m\u001b[1mgetelementptr\u001b[22m\u001b[39m \u001b[95minbounds\u001b[39m \u001b[33m[\u001b[39m\u001b[33m1\u001b[39m \u001b[0mx \u001b[33m{\u001b[39m\u001b[33m}\u001b[39m\u001b[0m*\u001b[33m]\u001b[39m\u001b[0m, \u001b[33m[\u001b[39m\u001b[33m1\u001b[39m \u001b[0mx \u001b[33m{\u001b[39m\u001b[33m}\u001b[39m\u001b[0m*\u001b[33m]\u001b[39m\u001b[0m* \u001b[0m%0\u001b[0m, \u001b[36mi64\u001b[39m \u001b[33m0\u001b[39m\u001b[0m, \u001b[36mi64\u001b[39m \u001b[33m0\u001b[39m\n",
      "   \u001b[0m%3 \u001b[0m= \u001b[96m\u001b[1mload\u001b[22m\u001b[39m \u001b[95matomic\u001b[39m \u001b[33m{\u001b[39m\u001b[33m}\u001b[39m\u001b[0m*\u001b[0m, \u001b[33m{\u001b[39m\u001b[33m}\u001b[39m\u001b[0m** \u001b[0m%2 \u001b[95munordered\u001b[39m\u001b[0m, \u001b[95malign\u001b[39m \u001b[33m8\u001b[39m\n",
      "\u001b[90m; └\u001b[39m\n",
      "\u001b[90m;  @ In[26]:4 within `sindegmemo'\u001b[39m\n",
      "\u001b[90m; ┌ @ operators.jl:352 within `>='\u001b[39m\n",
      "\u001b[90m; │┌ @ float.jl:374 within `<='\u001b[39m\n",
      "    \u001b[0m%4 \u001b[0m= \u001b[96m\u001b[1mfcmp\u001b[22m\u001b[39m \u001b[96m\u001b[1mult\u001b[22m\u001b[39m \u001b[36mdouble\u001b[39m \u001b[0m%1\u001b[0m, \u001b[33m1.500000e+01\u001b[39m\n",
      "\u001b[90m; └└\u001b[39m\n",
      "  \u001b[96m\u001b[1mbr\u001b[22m\u001b[39m \u001b[36mi1\u001b[39m \u001b[0m%4\u001b[0m, \u001b[36mlabel\u001b[39m \u001b[91m%L9\u001b[39m\u001b[0m, \u001b[36mlabel\u001b[39m \u001b[91m%L6\u001b[39m\n",
      "\n",
      "\u001b[91mL6:\u001b[39m                                               \u001b[90m; preds = %L6, %top\u001b[39m\n",
      "  \u001b[0m%value_phi17 \u001b[0m= \u001b[96m\u001b[1mphi\u001b[22m\u001b[39m \u001b[36mdouble\u001b[39m \u001b[33m[\u001b[39m \u001b[0m%5\u001b[0m, \u001b[91m%L6\u001b[39m \u001b[33m]\u001b[39m\u001b[0m, \u001b[33m[\u001b[39m \u001b[0m%1\u001b[0m, \u001b[91m%top\u001b[39m \u001b[33m]\u001b[39m\n",
      "  \u001b[0m%value_phi6 \u001b[0m= \u001b[96m\u001b[1mphi\u001b[22m\u001b[39m \u001b[36mi64\u001b[39m \u001b[33m[\u001b[39m \u001b[0m%6\u001b[0m, \u001b[91m%L6\u001b[39m \u001b[33m]\u001b[39m\u001b[0m, \u001b[33m[\u001b[39m \u001b[33m1\u001b[39m\u001b[0m, \u001b[91m%top\u001b[39m \u001b[33m]\u001b[39m\n",
      "\u001b[90m;  @ In[26]:5 within `sindegmemo'\u001b[39m\n",
      "\u001b[90m; ┌ @ float.jl:329 within `-'\u001b[39m\n",
      "   \u001b[0m%5 \u001b[0m= \u001b[96m\u001b[1mfadd\u001b[22m\u001b[39m \u001b[36mdouble\u001b[39m \u001b[0m%value_phi17\u001b[0m, \u001b[33m-1.500000e+01\u001b[39m\n",
      "\u001b[90m; └\u001b[39m\n",
      "\u001b[90m;  @ In[26]:6 within `sindegmemo'\u001b[39m\n",
      "\u001b[90m; ┌ @ int.jl:87 within `+'\u001b[39m\n",
      "   \u001b[0m%6 \u001b[0m= \u001b[96m\u001b[1madd\u001b[22m\u001b[39m \u001b[36mi64\u001b[39m \u001b[0m%value_phi6\u001b[0m, \u001b[33m1\u001b[39m\n",
      "\u001b[90m; └\u001b[39m\n",
      "\u001b[90m;  @ In[26]:4 within `sindegmemo'\u001b[39m\n",
      "\u001b[90m; ┌ @ operators.jl:352 within `>='\u001b[39m\n",
      "\u001b[90m; │┌ @ float.jl:374 within `<='\u001b[39m\n",
      "    \u001b[0m%7 \u001b[0m= \u001b[96m\u001b[1mfcmp\u001b[22m\u001b[39m \u001b[96m\u001b[1mult\u001b[22m\u001b[39m \u001b[36mdouble\u001b[39m \u001b[0m%5\u001b[0m, \u001b[33m1.500000e+01\u001b[39m\n",
      "\u001b[90m; └└\u001b[39m\n",
      "  \u001b[96m\u001b[1mbr\u001b[22m\u001b[39m \u001b[36mi1\u001b[39m \u001b[0m%7\u001b[0m, \u001b[36mlabel\u001b[39m \u001b[91m%L9\u001b[39m\u001b[0m, \u001b[36mlabel\u001b[39m \u001b[91m%L6\u001b[39m\n",
      "\n",
      "\u001b[91mL9:\u001b[39m                                               \u001b[90m; preds = %L6, %top\u001b[39m\n",
      "  \u001b[0m%value_phi.lcssa \u001b[0m= \u001b[96m\u001b[1mphi\u001b[22m\u001b[39m \u001b[36mi64\u001b[39m \u001b[33m[\u001b[39m \u001b[33m1\u001b[39m\u001b[0m, \u001b[91m%top\u001b[39m \u001b[33m]\u001b[39m\u001b[0m, \u001b[33m[\u001b[39m \u001b[0m%6\u001b[0m, \u001b[91m%L6\u001b[39m \u001b[33m]\u001b[39m\n",
      "  \u001b[0m%value_phi1.lcssa \u001b[0m= \u001b[96m\u001b[1mphi\u001b[22m\u001b[39m \u001b[36mdouble\u001b[39m \u001b[33m[\u001b[39m \u001b[0m%1\u001b[0m, \u001b[91m%top\u001b[39m \u001b[33m]\u001b[39m\u001b[0m, \u001b[33m[\u001b[39m \u001b[0m%5\u001b[0m, \u001b[91m%L6\u001b[39m \u001b[33m]\u001b[39m\n",
      "\u001b[90m;  @ In[26]:8 within `sindegmemo'\u001b[39m\n",
      "\u001b[90m; ┌ @ In[7]:1 within `deg2rad'\u001b[39m\n",
      "\u001b[90m; │┌ @ float.jl:332 within `*'\u001b[39m\n",
      "    \u001b[0m%8 \u001b[0m= \u001b[96m\u001b[1mfmul\u001b[22m\u001b[39m \u001b[36mdouble\u001b[39m \u001b[0m%value_phi1.lcssa\u001b[0m, \u001b[33m0x3F91DF46A2529D39\u001b[39m\n",
      "\u001b[90m; └└\u001b[39m\n",
      "\u001b[90m; ┌ @ array.jl:802 within `getindex'\u001b[39m\n",
      "   \u001b[0m%9 \u001b[0m= \u001b[96m\u001b[1madd\u001b[22m\u001b[39m \u001b[36mi64\u001b[39m \u001b[0m%value_phi.lcssa\u001b[0m, \u001b[33m-1\u001b[39m\n",
      "   \u001b[0m%10 \u001b[0m= \u001b[96m\u001b[1mbitcast\u001b[22m\u001b[39m \u001b[33m{\u001b[39m\u001b[33m}\u001b[39m\u001b[0m* \u001b[0m%3 \u001b[95mto\u001b[39m \u001b[33m{\u001b[39m\u001b[33m}\u001b[39m\u001b[0m**\n",
      "   \u001b[0m%11 \u001b[0m= \u001b[96m\u001b[1mgetelementptr\u001b[22m\u001b[39m \u001b[95minbounds\u001b[39m \u001b[33m{\u001b[39m\u001b[33m}\u001b[39m\u001b[0m*\u001b[0m, \u001b[33m{\u001b[39m\u001b[33m}\u001b[39m\u001b[0m** \u001b[0m%10\u001b[0m, \u001b[36mi64\u001b[39m \u001b[33m3\u001b[39m\n",
      "   \u001b[0m%12 \u001b[0m= \u001b[96m\u001b[1mbitcast\u001b[22m\u001b[39m \u001b[33m{\u001b[39m\u001b[33m}\u001b[39m\u001b[0m** \u001b[0m%11 \u001b[95mto\u001b[39m \u001b[36mi64\u001b[39m\u001b[0m*\n",
      "   \u001b[0m%13 \u001b[0m= \u001b[96m\u001b[1mload\u001b[22m\u001b[39m \u001b[36mi64\u001b[39m\u001b[0m, \u001b[36mi64\u001b[39m\u001b[0m* \u001b[0m%12\u001b[0m, \u001b[95malign\u001b[39m \u001b[33m8\u001b[39m\n",
      "   \u001b[0m%14 \u001b[0m= \u001b[96m\u001b[1micmp\u001b[22m\u001b[39m \u001b[96m\u001b[1mult\u001b[22m\u001b[39m \u001b[36mi64\u001b[39m \u001b[0m%9\u001b[0m, \u001b[0m%13\n",
      "   \u001b[96m\u001b[1mbr\u001b[22m\u001b[39m \u001b[36mi1\u001b[39m \u001b[0m%14\u001b[0m, \u001b[36mlabel\u001b[39m \u001b[91m%ib\u001b[39m\u001b[0m, \u001b[36mlabel\u001b[39m \u001b[91m%oob\u001b[39m\n",
      "\n",
      "\u001b[91mL13:\u001b[39m                                              \u001b[90m; preds = %idxend\u001b[39m\n",
      "\u001b[90m; └\u001b[39m\n",
      "\u001b[90m;  @ In[26]:9 within `sindegmemo'\u001b[39m\n",
      "  \u001b[96m\u001b[1mret\u001b[22m\u001b[39m \u001b[36mdouble\u001b[39m \u001b[0m%23\n",
      "\n",
      "\u001b[91mib:\u001b[39m                                               \u001b[90m; preds = %L9\u001b[39m\n",
      "\u001b[90m;  @ In[26]:8 within `sindegmemo'\u001b[39m\n",
      "\u001b[90m; ┌ @ array.jl:802 within `getindex'\u001b[39m\n",
      "   \u001b[0m%15 \u001b[0m= \u001b[96m\u001b[1mgetelementptr\u001b[22m\u001b[39m \u001b[95minbounds\u001b[39m \u001b[33m{\u001b[39m\u001b[33m}\u001b[39m\u001b[0m*\u001b[0m, \u001b[33m{\u001b[39m\u001b[33m}\u001b[39m\u001b[0m** \u001b[0m%10\u001b[0m, \u001b[36mi64\u001b[39m \u001b[33m4\u001b[39m\n",
      "   \u001b[0m%16 \u001b[0m= \u001b[96m\u001b[1mbitcast\u001b[22m\u001b[39m \u001b[33m{\u001b[39m\u001b[33m}\u001b[39m\u001b[0m** \u001b[0m%15 \u001b[95mto\u001b[39m \u001b[36mi64\u001b[39m\u001b[0m*\n",
      "   \u001b[0m%17 \u001b[0m= \u001b[96m\u001b[1mload\u001b[22m\u001b[39m \u001b[36mi64\u001b[39m\u001b[0m, \u001b[36mi64\u001b[39m\u001b[0m* \u001b[0m%16\u001b[0m, \u001b[95malign\u001b[39m \u001b[33m8\u001b[39m\n",
      "   \u001b[0m%.not \u001b[0m= \u001b[96m\u001b[1micmp\u001b[22m\u001b[39m \u001b[96m\u001b[1meq\u001b[22m\u001b[39m \u001b[36mi64\u001b[39m \u001b[0m%17\u001b[0m, \u001b[33m0\u001b[39m\n",
      "   \u001b[96m\u001b[1mbr\u001b[22m\u001b[39m \u001b[36mi1\u001b[39m \u001b[0m%.not\u001b[0m, \u001b[36mlabel\u001b[39m \u001b[91m%oob\u001b[39m\u001b[0m, \u001b[36mlabel\u001b[39m \u001b[91m%idxend\u001b[39m\n",
      "\n",
      "\u001b[91moob:\u001b[39m                                              \u001b[90m; preds = %ib, %L9\u001b[39m\n",
      "   \u001b[0m%18 \u001b[0m= \u001b[96m\u001b[1malloca\u001b[22m\u001b[39m \u001b[33m[\u001b[39m\u001b[33m2\u001b[39m \u001b[0mx \u001b[36mi64\u001b[39m\u001b[33m]\u001b[39m\u001b[0m, \u001b[95malign\u001b[39m \u001b[33m8\u001b[39m\n",
      "   \u001b[0m%.sub \u001b[0m= \u001b[96m\u001b[1mgetelementptr\u001b[22m\u001b[39m \u001b[95minbounds\u001b[39m \u001b[33m[\u001b[39m\u001b[33m2\u001b[39m \u001b[0mx \u001b[36mi64\u001b[39m\u001b[33m]\u001b[39m\u001b[0m, \u001b[33m[\u001b[39m\u001b[33m2\u001b[39m \u001b[0mx \u001b[36mi64\u001b[39m\u001b[33m]\u001b[39m\u001b[0m* \u001b[0m%18\u001b[0m, \u001b[36mi64\u001b[39m \u001b[33m0\u001b[39m\u001b[0m, \u001b[36mi64\u001b[39m \u001b[33m0\u001b[39m\n",
      "   \u001b[96m\u001b[1mstore\u001b[22m\u001b[39m \u001b[36mi64\u001b[39m \u001b[0m%value_phi.lcssa\u001b[0m, \u001b[36mi64\u001b[39m\u001b[0m* \u001b[0m%.sub\u001b[0m, \u001b[95malign\u001b[39m \u001b[33m8\u001b[39m\n",
      "   \u001b[0m%19 \u001b[0m= \u001b[96m\u001b[1mgetelementptr\u001b[22m\u001b[39m \u001b[95minbounds\u001b[39m \u001b[33m[\u001b[39m\u001b[33m2\u001b[39m \u001b[0mx \u001b[36mi64\u001b[39m\u001b[33m]\u001b[39m\u001b[0m, \u001b[33m[\u001b[39m\u001b[33m2\u001b[39m \u001b[0mx \u001b[36mi64\u001b[39m\u001b[33m]\u001b[39m\u001b[0m* \u001b[0m%18\u001b[0m, \u001b[36mi64\u001b[39m \u001b[33m0\u001b[39m\u001b[0m, \u001b[36mi64\u001b[39m \u001b[33m1\u001b[39m\n",
      "   \u001b[96m\u001b[1mstore\u001b[22m\u001b[39m \u001b[36mi64\u001b[39m \u001b[33m1\u001b[39m\u001b[0m, \u001b[36mi64\u001b[39m\u001b[0m* \u001b[0m%19\u001b[0m, \u001b[95malign\u001b[39m \u001b[33m8\u001b[39m\n",
      "   \u001b[96m\u001b[1mcall\u001b[22m\u001b[39m \u001b[36mvoid\u001b[39m \u001b[93m@jl_bounds_error_ints\u001b[39m\u001b[33m(\u001b[39m\u001b[33m{\u001b[39m\u001b[33m}\u001b[39m\u001b[0m* \u001b[0m%3\u001b[0m, \u001b[36mi64\u001b[39m\u001b[0m* \u001b[95mnonnull\u001b[39m \u001b[0m%.sub\u001b[0m, \u001b[36mi64\u001b[39m \u001b[33m2\u001b[39m\u001b[33m)\u001b[39m\n",
      "   \u001b[96m\u001b[1munreachable\u001b[22m\u001b[39m\n",
      "\n",
      "\u001b[91midxend:\u001b[39m                                           \u001b[90m; preds = %ib\u001b[39m\n",
      "   \u001b[0m%20 \u001b[0m= \u001b[96m\u001b[1mbitcast\u001b[22m\u001b[39m \u001b[33m{\u001b[39m\u001b[33m}\u001b[39m\u001b[0m* \u001b[0m%3 \u001b[95mto\u001b[39m \u001b[36mdouble\u001b[39m\u001b[0m**\n",
      "   \u001b[0m%21 \u001b[0m= \u001b[96m\u001b[1mload\u001b[22m\u001b[39m \u001b[36mdouble\u001b[39m\u001b[0m*\u001b[0m, \u001b[36mdouble\u001b[39m\u001b[0m** \u001b[0m%20\u001b[0m, \u001b[95malign\u001b[39m \u001b[33m8\u001b[39m\n",
      "   \u001b[0m%22 \u001b[0m= \u001b[96m\u001b[1mgetelementptr\u001b[22m\u001b[39m \u001b[95minbounds\u001b[39m \u001b[36mdouble\u001b[39m\u001b[0m, \u001b[36mdouble\u001b[39m\u001b[0m* \u001b[0m%21\u001b[0m, \u001b[36mi64\u001b[39m \u001b[0m%9\n",
      "   \u001b[0m%23 \u001b[0m= \u001b[96m\u001b[1mload\u001b[22m\u001b[39m \u001b[36mdouble\u001b[39m\u001b[0m, \u001b[36mdouble\u001b[39m\u001b[0m* \u001b[0m%22\u001b[0m, \u001b[95malign\u001b[39m \u001b[33m8\u001b[39m\n",
      "\u001b[90m; └\u001b[39m\n",
      "\u001b[90m;  @ In[26]:9 within `sindegmemo'\u001b[39m\n",
      "\u001b[90m; ┌ @ number.jl:40 within `iszero'\u001b[39m\n",
      "\u001b[90m; │┌ @ float.jl:365 within `=='\u001b[39m\n",
      "    \u001b[0m%24 \u001b[0m= \u001b[96m\u001b[1mfcmp\u001b[22m\u001b[39m \u001b[96m\u001b[1mune\u001b[22m\u001b[39m \u001b[36mdouble\u001b[39m \u001b[0m%8\u001b[0m, \u001b[33m0.000000e+00\u001b[39m\n",
      "\u001b[90m; └└\u001b[39m\n",
      "  \u001b[96m\u001b[1mbr\u001b[22m\u001b[39m \u001b[36mi1\u001b[39m \u001b[0m%24\u001b[0m, \u001b[36mlabel\u001b[39m \u001b[91m%ib2\u001b[39m\u001b[0m, \u001b[36mlabel\u001b[39m \u001b[91m%L13\u001b[39m\n",
      "\n",
      "\u001b[91mib2:\u001b[39m                                              \u001b[90m; preds = %idxend\u001b[39m\n",
      "\u001b[90m;  @ In[26]:10 within `sindegmemo'\u001b[39m\n",
      "\u001b[90m; ┌ @ array.jl:802 within `getindex'\u001b[39m\n",
      "   \u001b[0m%25 \u001b[0m= \u001b[96m\u001b[1micmp\u001b[22m\u001b[39m \u001b[96m\u001b[1mugt\u001b[22m\u001b[39m \u001b[36mi64\u001b[39m \u001b[0m%17\u001b[0m, \u001b[33m1\u001b[39m\n",
      "   \u001b[96m\u001b[1mbr\u001b[22m\u001b[39m \u001b[36mi1\u001b[39m \u001b[0m%25\u001b[0m, \u001b[36mlabel\u001b[39m \u001b[91m%idxend4\u001b[39m\u001b[0m, \u001b[36mlabel\u001b[39m \u001b[91m%oob3\u001b[39m\n",
      "\n",
      "\u001b[91moob3:\u001b[39m                                             \u001b[90m; preds = %ib2\u001b[39m\n",
      "   \u001b[0m%26 \u001b[0m= \u001b[96m\u001b[1malloca\u001b[22m\u001b[39m \u001b[33m[\u001b[39m\u001b[33m2\u001b[39m \u001b[0mx \u001b[36mi64\u001b[39m\u001b[33m]\u001b[39m\u001b[0m, \u001b[95malign\u001b[39m \u001b[33m8\u001b[39m\n",
      "   \u001b[0m%.sub5 \u001b[0m= \u001b[96m\u001b[1mgetelementptr\u001b[22m\u001b[39m \u001b[95minbounds\u001b[39m \u001b[33m[\u001b[39m\u001b[33m2\u001b[39m \u001b[0mx \u001b[36mi64\u001b[39m\u001b[33m]\u001b[39m\u001b[0m, \u001b[33m[\u001b[39m\u001b[33m2\u001b[39m \u001b[0mx \u001b[36mi64\u001b[39m\u001b[33m]\u001b[39m\u001b[0m* \u001b[0m%26\u001b[0m, \u001b[36mi64\u001b[39m \u001b[33m0\u001b[39m\u001b[0m, \u001b[36mi64\u001b[39m \u001b[33m0\u001b[39m\n",
      "   \u001b[96m\u001b[1mstore\u001b[22m\u001b[39m \u001b[36mi64\u001b[39m \u001b[0m%value_phi.lcssa\u001b[0m, \u001b[36mi64\u001b[39m\u001b[0m* \u001b[0m%.sub5\u001b[0m, \u001b[95malign\u001b[39m \u001b[33m8\u001b[39m\n",
      "   \u001b[0m%27 \u001b[0m= \u001b[96m\u001b[1mgetelementptr\u001b[22m\u001b[39m \u001b[95minbounds\u001b[39m \u001b[33m[\u001b[39m\u001b[33m2\u001b[39m \u001b[0mx \u001b[36mi64\u001b[39m\u001b[33m]\u001b[39m\u001b[0m, \u001b[33m[\u001b[39m\u001b[33m2\u001b[39m \u001b[0mx \u001b[36mi64\u001b[39m\u001b[33m]\u001b[39m\u001b[0m* \u001b[0m%26\u001b[0m, \u001b[36mi64\u001b[39m \u001b[33m0\u001b[39m\u001b[0m, \u001b[36mi64\u001b[39m \u001b[33m1\u001b[39m\n",
      "   \u001b[96m\u001b[1mstore\u001b[22m\u001b[39m \u001b[36mi64\u001b[39m \u001b[33m2\u001b[39m\u001b[0m, \u001b[36mi64\u001b[39m\u001b[0m* \u001b[0m%27\u001b[0m, \u001b[95malign\u001b[39m \u001b[33m8\u001b[39m\n",
      "   \u001b[96m\u001b[1mcall\u001b[22m\u001b[39m \u001b[36mvoid\u001b[39m \u001b[93m@jl_bounds_error_ints\u001b[39m\u001b[33m(\u001b[39m\u001b[33m{\u001b[39m\u001b[33m}\u001b[39m\u001b[0m* \u001b[0m%3\u001b[0m, \u001b[36mi64\u001b[39m\u001b[0m* \u001b[95mnonnull\u001b[39m \u001b[0m%.sub5\u001b[0m, \u001b[36mi64\u001b[39m \u001b[33m2\u001b[39m\u001b[33m)\u001b[39m\n",
      "   \u001b[96m\u001b[1munreachable\u001b[22m\u001b[39m\n",
      "\n",
      "\u001b[91midxend4:\u001b[39m                                          \u001b[90m; preds = %ib2\u001b[39m\n",
      "   \u001b[0m%28 \u001b[0m= \u001b[96m\u001b[1madd\u001b[22m\u001b[39m \u001b[36mi64\u001b[39m \u001b[0m%13\u001b[0m, \u001b[0m%9\n",
      "\u001b[90m; └\u001b[39m\n",
      "\u001b[90m; ┌ @ float.jl:332 within `*'\u001b[39m\n",
      "   \u001b[0m%29 \u001b[0m= \u001b[96m\u001b[1mfmul\u001b[22m\u001b[39m \u001b[36mdouble\u001b[39m \u001b[0m%8\u001b[0m, \u001b[0m%8\n",
      "\u001b[90m; └\u001b[39m\n",
      "\u001b[90m; ┌ @ promotion.jl:324 within `/' @ float.jl:335\u001b[39m\n",
      "   \u001b[0m%30 \u001b[0m= \u001b[96m\u001b[1mfmul\u001b[22m\u001b[39m \u001b[36mdouble\u001b[39m \u001b[0m%29\u001b[0m, \u001b[33m5.000000e-01\u001b[39m\n",
      "\u001b[90m; └\u001b[39m\n",
      "\u001b[90m; ┌ @ promotion.jl:323 within `-' @ float.jl:329\u001b[39m\n",
      "   \u001b[0m%31 \u001b[0m= \u001b[96m\u001b[1mfsub\u001b[22m\u001b[39m \u001b[36mdouble\u001b[39m \u001b[33m1.000000e+00\u001b[39m\u001b[0m, \u001b[0m%30\n",
      "\u001b[90m; └\u001b[39m\n",
      "\u001b[90m; ┌ @ array.jl:802 within `getindex'\u001b[39m\n",
      "   \u001b[0m%32 \u001b[0m= \u001b[96m\u001b[1mgetelementptr\u001b[22m\u001b[39m \u001b[95minbounds\u001b[39m \u001b[36mdouble\u001b[39m\u001b[0m, \u001b[36mdouble\u001b[39m\u001b[0m* \u001b[0m%21\u001b[0m, \u001b[36mi64\u001b[39m \u001b[0m%28\n",
      "   \u001b[0m%33 \u001b[0m= \u001b[96m\u001b[1mload\u001b[22m\u001b[39m \u001b[36mdouble\u001b[39m\u001b[0m, \u001b[36mdouble\u001b[39m\u001b[0m* \u001b[0m%32\u001b[0m, \u001b[95malign\u001b[39m \u001b[33m8\u001b[39m\n",
      "\u001b[90m; └\u001b[39m\n",
      "\u001b[90m;  @ In[26]:11 within `sindegmemo'\u001b[39m\n",
      "\u001b[90m; ┌ @ float.jl:332 within `*'\u001b[39m\n",
      "   \u001b[0m%34 \u001b[0m= \u001b[96m\u001b[1mfmul\u001b[22m\u001b[39m \u001b[36mdouble\u001b[39m \u001b[0m%31\u001b[0m, \u001b[0m%23\n",
      "   \u001b[0m%35 \u001b[0m= \u001b[96m\u001b[1mfmul\u001b[22m\u001b[39m \u001b[36mdouble\u001b[39m \u001b[0m%8\u001b[0m, \u001b[0m%33\n",
      "\u001b[90m; └\u001b[39m\n",
      "\u001b[90m; ┌ @ float.jl:326 within `+'\u001b[39m\n",
      "   \u001b[0m%36 \u001b[0m= \u001b[96m\u001b[1mfadd\u001b[22m\u001b[39m \u001b[36mdouble\u001b[39m \u001b[0m%34\u001b[0m, \u001b[0m%35\n",
      "\u001b[90m; └\u001b[39m\n",
      "  \u001b[96m\u001b[1mret\u001b[22m\u001b[39m \u001b[36mdouble\u001b[39m \u001b[0m%36\n",
      "\u001b[33m}\u001b[39m\n"
     ]
    }
   ],
   "source": [
    "@code_llvm sindegmemo(m3, 60.0)"
   ]
  },
  {
   "cell_type": "markdown",
   "metadata": {},
   "source": [
    "Look at the code generated for bounds checking in the above code. Is there a way to improve upon those?"
   ]
  },
  {
   "cell_type": "code",
   "execution_count": 29,
   "metadata": {},
   "outputs": [
    {
     "data": {
      "text/plain": [
       "sindegmemo (generic function with 4 methods)"
      ]
     },
     "execution_count": 29,
     "metadata": {},
     "output_type": "execute_result"
    }
   ],
   "source": [
    "function sindegmemo(m::MemoLookupP, x::Float64)\n",
    "    s, lookup = step(m), m.lookup\n",
    "    i = 1\n",
    "    while x >= s\n",
    "        x -= s\n",
    "        i += 1\n",
    "    end\n",
    "    x, sini = deg2rad(x), @inbounds lookup[i, 1]\n",
    "    iszero(x) && return sini\n",
    "    sinx, cosx, cosi = x, 1 - x*x/2, @inbounds lookup[i, 2]\n",
    "    return sini*cosx + cosi*sinx\n",
    "end"
   ]
  },
  {
   "cell_type": "code",
   "execution_count": 30,
   "metadata": {},
   "outputs": [
    {
     "name": "stdout",
     "output_type": "stream",
     "text": [
      "  1.815 ns (0 allocations: 0 bytes)\n"
     ]
    },
    {
     "data": {
      "text/plain": [
       "0.8660254037844386"
      ]
     },
     "execution_count": 30,
     "metadata": {},
     "output_type": "execute_result"
    }
   ],
   "source": [
    "@btime sindegmemo($m3, 60.0)"
   ]
  },
  {
   "cell_type": "code",
   "execution_count": 31,
   "metadata": {},
   "outputs": [
    {
     "name": "stdout",
     "output_type": "stream",
     "text": [
      "  1.819 ns (0 allocations: 0 bytes)\n"
     ]
    },
    {
     "data": {
      "text/plain": [
       "0.3748975477461437"
      ]
     },
     "execution_count": 31,
     "metadata": {},
     "output_type": "execute_result"
    }
   ],
   "source": [
    "@btime sindegmemo($m3, 22.0)"
   ]
  },
  {
   "cell_type": "markdown",
   "metadata": {},
   "source": [
    "## 11.4 Profiling\n",
    "\n",
    "Profiling is done to search for a poorly performing code in a system. "
   ]
  },
  {
   "cell_type": "code",
   "execution_count": 32,
   "metadata": {},
   "outputs": [],
   "source": [
    "using Profile"
   ]
  },
  {
   "cell_type": "code",
   "execution_count": 33,
   "metadata": {},
   "outputs": [
    {
     "data": {
      "text/plain": [
       "profile_test (generic function with 1 method)"
      ]
     },
     "execution_count": 33,
     "metadata": {},
     "output_type": "execute_result"
    }
   ],
   "source": [
    "function profile_test(n)\n",
    "    for i = 1:n\n",
    "        A = randn(100,100,20)\n",
    "        m = maximum(A)\n",
    "        Am = mapslices(sum, A; dims=2)\n",
    "        B = A[:,:,5]\n",
    "        Bsort = mapslices(sort, B; dims=1)\n",
    "        b = rand(100)\n",
    "        C = B.*b\n",
    "    end\n",
    "end"
   ]
  },
  {
   "cell_type": "code",
   "execution_count": 34,
   "metadata": {},
   "outputs": [],
   "source": [
    "profile_test(1)\n",
    "@profile profile_test(100)"
   ]
  },
  {
   "cell_type": "code",
   "execution_count": 35,
   "metadata": {},
   "outputs": [
    {
     "name": "stdout",
     "output_type": "stream",
     "text": [
      "Overhead ╎ [+additional indent] Count File:Line; Function\n",
      "=========================================================\n",
      "   ╎329 @Base/task.jl:406; (::IJulia.var\"#15#18\")()\n",
      "   ╎ 329 @IJulia/src/eventloop.jl:8; eventloop(socket::ZMQ.Socket)\n",
      "   ╎  329 @Base/essentials.jl:706; invokelatest\n",
      "   ╎   329 @Base/essentials.jl:708; #invokelatest#2\n",
      "   ╎    329 .../execute_request.jl:67; execute_request(socket::ZMQ.So...\n",
      "   ╎     329 .../SoftGlobalScope.jl:65; softscope_include_string(m::Mo...\n",
      "   ╎    ╎ 329 @Base/loading.jl:1094; include_string(mapexpr::type...\n",
      "  2╎    ╎  329 @Base/boot.jl:360; eval\n",
      "   ╎    ╎   79  In[33]:3; profile_test(n::Int64)\n",
      "   ╎    ╎    79  ...dom/src/normal.jl:229; randn\n",
      "   ╎    ╎     79  ...om/src/normal.jl:223; randn\n",
      "   ╎    ╎    ╎ 7   @Base/boot.jl:464; Array\n",
      "  7╎    ╎    ╎  7   @Base/boot.jl:452; Array\n",
      "   ╎    ╎    ╎ 15  ...om/src/normal.jl:209; randn!(rng::Random.Mersen...\n",
      "   ╎    ╎    ╎  15  ...m/src/Random.jl:266; rand!\n",
      "   ╎    ╎    ╎   15  ...dom/src/RNGs.jl:589; rand!\n",
      "   ╎    ╎    ╎    15  ...dom/src/RNGs.jl:583; _rand!\n",
      "   ╎    ╎    ╎     15  ...om/src/RNGs.jl:571; rand!(r::Random.Mersenn...\n",
      "   ╎    ╎    ╎    ╎ 15  ...om/src/RNGs.jl:542; fill_array!\n",
      "   ╎    ╎    ╎    ╎  15  ...m/src/RNGs.jl:548; fill_array!\n",
      " 15╎    ╎    ╎    ╎   15  .../src/DSFMT.jl:85; dsfmt_fill_array_close...\n",
      "   ╎    ╎    ╎ 57  ...om/src/normal.jl:211; randn!(rng::Random.Mersen...\n",
      "  1╎    ╎    ╎  1   @Base/array.jl:801; getindex\n",
      "  7╎    ╎    ╎  7   @Base/array.jl:839; setindex!\n",
      "   ╎    ╎    ╎  5   @Base/range.jl:674; iterate\n",
      "  5╎    ╎    ╎   5   @Base/promotion.jl:410; ==\n",
      "   ╎    ╎    ╎  10  ...m/src/normal.jl:62; _randn\n",
      "   ╎    ╎    ╎   10  @Base/int.jl:462; >>\n",
      " 10╎    ╎    ╎    10  @Base/int.jl:456; >>\n",
      "  4╎    ╎    ╎  18  ...m/src/normal.jl:64; _randn\n",
      "  4╎    ╎    ╎   4   @Base/array.jl:801; getindex\n",
      "  5╎    ╎    ╎   5   @Base/int.jl:85; -\n",
      "   ╎    ╎    ╎   5   @Base/promotion.jl:322; *\n",
      "  1╎    ╎    ╎    1   @Base/float.jl:332; *\n",
      "   ╎    ╎    ╎    4   @Base/promotion.jl:292; promote\n",
      "   ╎    ╎    ╎     4   ...e/promotion.jl:269; _promote\n",
      "   ╎    ╎    ╎    ╎ 4   @Base/number.jl:7; convert\n",
      "  4╎    ╎    ╎    ╎  4   @Base/float.jl:94; Float64\n",
      "   ╎    ╎    ╎  12  ...m/src/normal.jl:65; _randn\n",
      "  6╎    ╎    ╎   6   @Base/array.jl:801; getindex\n",
      "   ╎    ╎    ╎   6   @Base/int.jl:447; <\n",
      "  5╎    ╎    ╎    6   @Base/int.jl:441; <\n",
      "   ╎    ╎    ╎  4   ...m/src/normal.jl:66; _randn\n",
      "   ╎    ╎    ╎   2   ...m/src/normal.jl:79; randn_unlikely(rng::Rando...\n",
      "  1╎    ╎    ╎    1   @Base/float.jl:332; *\n",
      "  1╎    ╎    ╎    1   .../special/exp.jl:226; exp(x::Float64)\n",
      "  2╎    ╎    ╎   2   ...m/src/normal.jl:82; randn_unlikely(rng::Rando...\n",
      "   ╎    ╎   24  In[33]:4; profile_test(n::Int64)\n",
      "   ╎    ╎    24  @Base/reducedim.jl:873; maximum\n",
      "   ╎    ╎     24  @Base/reducedim.jl:873; #maximum#687\n",
      "   ╎    ╎    ╎ 24  @Base/reducedim.jl:877; _maximum\n",
      "   ╎    ╎    ╎  24  @Base/reducedim.jl:877; #_maximum#689\n",
      "   ╎    ╎    ╎   24  @Base/reducedim.jl:878; _maximum\n",
      "   ╎    ╎    ╎    24  @Base/reducedim.jl:878; #_maximum#690\n",
      "   ╎    ╎    ╎     24  ...e/reducedim.jl:310; mapreduce\n",
      "   ╎    ╎    ╎    ╎ 24  ...e/reducedim.jl:310; #mapreduce#672\n",
      "   ╎    ╎    ╎    ╎  24  .../reducedim.jl:318; _mapreduce_dim\n",
      "   ╎    ╎    ╎    ╎   24  @Base/reduce.jl:415; _mapreduce(f::typeof(...\n",
      "   ╎    ╎    ╎    ╎    1   @Base/reduce.jl:619; mapreduce_impl(f::typ...\n",
      "   ╎    ╎    ╎    ╎     1   @Base/range.jl:22; Colon\n",
      "   ╎    ╎    ╎    ╎    ╎ 1   @Base/range.jl:24; _colon\n",
      "   ╎    ╎    ╎    ╎    ╎  1   @Base/range.jl:263; StepRange\n",
      "   ╎    ╎    ╎    ╎    ╎   1   @Base/range.jl:208; StepRange\n",
      "   ╎    ╎    ╎    ╎    ╎    1   @Base/range.jl:226; steprange_last(sta...\n",
      "   ╎    ╎    ╎    ╎    ╎     1   ...erators.jl:305; >\n",
      "  1╎    ╎    ╎    ╎    ╎    ╎ 1   @Base/int.jl:83; <\n",
      "   ╎    ╎    ╎    ╎    11  @Base/reduce.jl:621; mapreduce_impl(f::typ...\n",
      "  9╎    ╎    ╎    ╎     11  @Base/reduce.jl:588; _fast\n",
      "   ╎    ╎    ╎    ╎    ╎ 2   @Base/float.jl:449; isnan\n",
      "  2╎    ╎    ╎    ╎    ╎  2   @Base/float.jl:368; !=\n",
      "   ╎    ╎    ╎    ╎    12  @Base/reduce.jl:623; mapreduce_impl(f::typ...\n",
      "   ╎    ╎    ╎    ╎     12  @Base/range.jl:674; iterate\n",
      " 12╎    ╎    ╎    ╎    ╎ 12  ...promotion.jl:410; ==\n",
      "   ╎    ╎   185 In[33]:5; profile_test(n::Int64)\n",
      "   ╎    ╎    185 ...abstractarray.jl:2194; mapslices##kw\n",
      "   ╎    ╎     1   ...abstractarray.jl:2205; mapslices(f::typeof(sum),...\n",
      "   ╎    ╎    ╎ 1   @Base/array.jl:2612; setdiff\n",
      "   ╎    ╎    ╎  1   @Base/array.jl:2607; _shrink(shrinker!::Funct...\n",
      "   ╎    ╎    ╎   1   @Base/set.jl:21; Set\n",
      "   ╎    ╎    ╎    1   @Base/set.jl:23; _Set\n",
      "   ╎    ╎    ╎     1   @Base/set.jl:10; Set\n",
      "   ╎    ╎    ╎    ╎ 1   @Base/set.jl:6; Set\n",
      "   ╎    ╎    ╎    ╎  1   @Base/dict.jl:90; Dict{Int64, Nothing}()\n",
      "   ╎    ╎    ╎    ╎   1   @Base/array.jl:499; zeros\n",
      "   ╎    ╎    ╎    ╎    1   @Base/array.jl:503; zeros\n",
      "   ╎    ╎    ╎    ╎     1   @Base/boot.jl:457; Array\n",
      "  1╎    ╎    ╎    ╎    ╎ 1   @Base/boot.jl:448; Array\n",
      "  1╎    ╎     1   ...abstractarray.jl:2220; mapslices(f::typeof(sum),...\n",
      "  1╎    ╎     1   ...abstractarray.jl:2238; mapslices(f::typeof(sum),...\n",
      "   ╎    ╎     182 ...abstractarray.jl:2251; mapslices(f::typeof(sum),...\n",
      "   ╎    ╎    ╎ 4   ...bstractarray.jl:2259; inner_mapslices!(safe_for...\n",
      "   ╎    ╎    ╎  4   ...bstractarray.jl:2276; replace_tuples!\n",
      "  2╎    ╎    ╎   2   @Base/array.jl:801; getindex\n",
      "  2╎    ╎    ╎   2   ...e/essentials.jl:458; setindex!\n",
      " 14╎    ╎    ╎ 38  ...bstractarray.jl:2260; inner_mapslices!(safe_for...\n",
      "   ╎    ╎    ╎  24  ...idimensional.jl:868; _unsafe_getindex!(::Vecto...\n",
      "   ╎    ╎    ╎   24  ...idimensional.jl:855; macro expansion\n",
      "   ╎    ╎    ╎    16  @Base/cartesian.jl:64; macro expansion\n",
      "  2╎    ╎    ╎     2   ...dimensional.jl:858; macro expansion\n",
      "   ╎    ╎    ╎     9   ...dimensional.jl:860; macro expansion\n",
      "  9╎    ╎    ╎    ╎ 9   @Base/array.jl:839; setindex!\n",
      "   ╎    ╎    ╎     5   ...dimensional.jl:861; macro expansion\n",
      "   ╎    ╎    ╎    ╎ 5   @Base/range.jl:674; iterate\n",
      "  5╎    ╎    ╎    ╎  5   .../promotion.jl:410; ==\n",
      "   ╎    ╎    ╎    8   @Base/cartesian.jl:65; macro expansion\n",
      "   ╎    ╎    ╎     8   @Base/indices.jl:370; iterate\n",
      "   ╎    ╎    ╎    ╎ 8   @Base/range.jl:674; iterate\n",
      "  8╎    ╎    ╎    ╎  8   .../promotion.jl:410; ==\n",
      " 29╎    ╎    ╎ 139 ...bstractarray.jl:2261; inner_mapslices!(safe_for...\n",
      " 62╎    ╎    ╎  107 ...bstractarray.jl:2280; concatenate_setindex!(::...\n",
      " 11╎    ╎    ╎   45  @Base/broadcast.jl:1212; dotview(::Array{Float64,...\n",
      " 34╎    ╎    ╎    34  @Base/views.jl:133; maybeview(::Array{Float6...\n",
      "   ╎    ╎    ╎  3   @Base/reducedim.jl:873; sum\n",
      "   ╎    ╎    ╎   3   @Base/reducedim.jl:873; #sum#679\n",
      "   ╎    ╎    ╎    3   @Base/reducedim.jl:877; _sum\n",
      "   ╎    ╎    ╎     3   ...e/reducedim.jl:877; #_sum#681\n",
      "   ╎    ╎    ╎    ╎ 3   ...e/reducedim.jl:878; _sum\n",
      "   ╎    ╎    ╎    ╎  3   .../reducedim.jl:878; #_sum#682\n",
      "   ╎    ╎    ╎    ╎   3   .../reducedim.jl:310; mapreduce\n",
      "   ╎    ╎    ╎    ╎    3   .../reducedim.jl:310; #mapreduce#672\n",
      "   ╎    ╎    ╎    ╎     3   ...reducedim.jl:318; _mapreduce_dim\n",
      "   ╎    ╎    ╎    ╎    ╎ 3   @Base/reduce.jl:415; _mapreduce\n",
      "   ╎    ╎    ╎    ╎    ╎  3   ...e/reduce.jl:257; mapreduce_impl\n",
      "   ╎    ╎    ╎    ╎    ╎   3   ...e/reduce.jl:243; mapreduce_impl(f::...\n",
      "  1╎    ╎    ╎    ╎    ╎    1   ...simdloop.jl:75; macro expansion\n",
      "   ╎    ╎    ╎    ╎    ╎    2   ...simdloop.jl:77; macro expansion\n",
      "   ╎    ╎    ╎    ╎    ╎     2   .../reduce.jl:245; macro expansion\n",
      "   ╎    ╎    ╎    ╎    ╎    ╎ 2   .../reduce.jl:27; add_sum\n",
      "  2╎    ╎    ╎    ╎    ╎    ╎  2   .../float.jl:326; +\n",
      "  1╎    ╎    ╎ 1   @Base/reduce.jl:233; mapreduce_impl(f::typeof(...\n",
      "   ╎    ╎   3   In[33]:6; profile_test(n::Int64)\n",
      "   ╎    ╎    3   ...abstractarray.jl:1170; getindex\n",
      "   ╎    ╎     3   ...tidimensional.jl:832; _getindex\n",
      "   ╎    ╎    ╎ 3   ...tidimensional.jl:846; _unsafe_getindex(::IndexL...\n",
      "   ╎    ╎    ╎  3   ...idimensional.jl:868; _unsafe_getindex!\n",
      "   ╎    ╎    ╎   3   ...idimensional.jl:855; macro expansion\n",
      "   ╎    ╎    ╎    2   @Base/cartesian.jl:64; macro expansion\n",
      "   ╎    ╎    ╎     1   ...dimensional.jl:860; macro expansion\n",
      "  1╎    ╎    ╎    ╎ 1   @Base/array.jl:839; setindex!\n",
      "   ╎    ╎    ╎     1   ...dimensional.jl:861; macro expansion\n",
      "   ╎    ╎    ╎    ╎ 1   @Base/range.jl:674; iterate\n",
      "  1╎    ╎    ╎    ╎  1   .../promotion.jl:410; ==\n",
      "   ╎    ╎    ╎    1   @Base/cartesian.jl:65; macro expansion\n",
      "   ╎    ╎    ╎     1   @Base/indices.jl:370; iterate\n",
      "   ╎    ╎    ╎    ╎ 1   @Base/range.jl:674; iterate\n",
      "  1╎    ╎    ╎    ╎  1   .../promotion.jl:410; ==\n",
      "   ╎    ╎   36  In[33]:7; profile_test(n::Int64)\n",
      "   ╎    ╎    36  ...abstractarray.jl:2194; mapslices##kw\n",
      "   ╎    ╎     36  ...abstractarray.jl:2251; mapslices(f::typeof(sort)...\n",
      "  1╎    ╎    ╎ 1   ...bstractarray.jl:2260; inner_mapslices!(safe_for...\n",
      "  3╎    ╎    ╎ 35  ...bstractarray.jl:2261; inner_mapslices!(safe_for...\n",
      "  2╎    ╎    ╎  5   ...bstractarray.jl:2281; concatenate_setindex!(::...\n",
      "   ╎    ╎    ╎   3   ...bstractarray.jl:1267; setindex!(::Matrix{Float...\n",
      "   ╎    ╎    ╎    3   ...idimensional.jl:887; _setindex!\n",
      "   ╎    ╎    ╎     3   ...dimensional.jl:898; _unsafe_setindex!(::Ind...\n",
      "   ╎    ╎    ╎    ╎ 3   ...e/cartesian.jl:64; macro expansion\n",
      "   ╎    ╎    ╎    ╎  3   ...imensional.jl:904; macro expansion\n",
      "   ╎    ╎    ╎    ╎   3   @Base/array.jl:777; iterate\n",
      "  2╎    ╎    ╎    ╎    2   @Base/int.jl:87; +\n",
      "   ╎    ╎    ╎    ╎    1   @Base/int.jl:923; -\n",
      "  1╎    ╎    ╎    ╎     1   @Base/int.jl:86; -\n",
      "   ╎    ╎    ╎  27  @Base/sort.jl:794; sort\n",
      "   ╎    ╎    ╎   27  @Base/sort.jl:794; #sort#9\n",
      "   ╎    ╎    ╎    1   ...stractarray.jl:1081; copymutable\n",
      "   ╎    ╎    ╎     1   @Base/array.jl:353; similar\n",
      "  1╎    ╎    ╎    ╎ 1   @Base/boot.jl:448; Array\n",
      "   ╎    ╎    ╎    26  @Base/sort.jl:735; sort!\n",
      "   ╎    ╎    ╎     26  @Base/sort.jl:747; #sort!#8\n",
      "   ╎    ╎    ╎    ╎ 26  @Base/sort.jl:1219; sort!\n",
      "   ╎    ╎    ╎    ╎  3   @Base/sort.jl:1202; fpsort!(v::Vector{Flo...\n",
      "   ╎    ╎    ╎    ╎   3   @Base/sort.jl:1192; nans2end!\n",
      "   ╎    ╎    ╎    ╎    3   @Base/sort.jl:1177; nans2right!\n",
      "   ╎    ╎    ╎    ╎     2   @Base/sort.jl:1182; nans2right!(v::Vect...\n",
      "  2╎    ╎    ╎    ╎    ╎ 2   @Base/int.jl:442; <=\n",
      "   ╎    ╎    ╎    ╎     1   @Base/sort.jl:1183; nans2right!(v::Vect...\n",
      "  1╎    ╎    ╎    ╎    ╎ 1   @Base/array.jl:801; getindex\n",
      "   ╎    ╎    ╎    ╎  1   @Base/sort.jl:1204; fpsort!(v::Vector{Flo...\n",
      "  1╎    ╎    ╎    ╎   1   @Base/int.jl:87; +\n",
      "  1╎    ╎    ╎    ╎  4   @Base/sort.jl:1205; fpsort!(v::Vector{Flo...\n",
      "  1╎    ╎    ╎    ╎   1   @Base/array.jl:801; getindex\n",
      "   ╎    ╎    ╎    ╎   2   @Base/sort.jl:1197; issignleft\n",
      "   ╎    ╎    ╎    ╎    2   ...e/ordering.jl:109; lt\n",
      "  2╎    ╎    ╎    ╎     2   @Base/float.jl:381; isless\n",
      "   ╎    ╎    ╎    ╎  1   @Base/sort.jl:1207; fpsort!(v::Vector{Flo...\n",
      "  1╎    ╎    ╎    ╎   1   @Base/array.jl:801; getindex\n",
      "   ╎    ╎    ╎    ╎  6   @Base/sort.jl:1210; fpsort!(v::Vector{Flo...\n",
      "   ╎    ╎    ╎    ╎   1   @Base/sort.jl:599; sort!(v::Vector{Float...\n",
      "   ╎    ╎    ╎    ╎    1   @Base/sort.jl:533; sort!(v::Vector{Float...\n",
      "  1╎    ╎    ╎    ╎     1   @Base/array.jl:839; setindex!\n",
      "   ╎    ╎    ╎    ╎   3   @Base/sort.jl:600; sort!(v::Vector{Float...\n",
      "  1╎    ╎    ╎    ╎    1   @Base/sort.jl:0; partition!(v::Vector{...\n",
      "   ╎    ╎    ╎    ╎    1   @Base/sort.jl:579; partition!(v::Vector{...\n",
      "   ╎    ╎    ╎    ╎     1   @Base/sort.jl:570; selectpivot!\n",
      "  1╎    ╎    ╎    ╎    ╎ 1   @Base/array.jl:801; getindex\n",
      "  1╎    ╎    ╎    ╎    1   @Base/sort.jl:585; partition!(v::Vector{...\n",
      "   ╎    ╎    ╎    ╎   2   @Base/sort.jl:605; sort!(v::Vector{Float...\n",
      "   ╎    ╎    ╎    ╎    2   @Base/sort.jl:599; sort!(v::Vector{Float...\n",
      "   ╎    ╎    ╎    ╎     2   @Base/sort.jl:539; sort!(v::Vector{Floa...\n",
      "  1╎    ╎    ╎    ╎    ╎ 1   @Base/array.jl:839; setindex!\n",
      "  1╎    ╎    ╎    ╎    ╎ 1   @Base/range.jl:674; iterate\n",
      "   ╎    ╎    ╎    ╎  11  @Base/sort.jl:1211; fpsort!(v::Vector{Flo...\n",
      "   ╎    ╎    ╎    ╎   4   @Base/sort.jl:599; sort!(v::Vector{Float...\n",
      "   ╎    ╎    ╎    ╎    1   @Base/sort.jl:532; sort!(v::Vector{Float...\n",
      "  1╎    ╎    ╎    ╎     1   @Base/sort.jl:0; getindex\n",
      "   ╎    ╎    ╎    ╎    3   @Base/sort.jl:539; sort!(v::Vector{Float...\n",
      "  3╎    ╎    ╎    ╎     3   @Base/range.jl:674; iterate\n",
      "   ╎    ╎    ╎    ╎   2   @Base/sort.jl:600; sort!(v::Vector{Float...\n",
      "  1╎    ╎    ╎    ╎    2   @Base/sort.jl:585; partition!(v::Vector{...\n",
      "  1╎    ╎    ╎    ╎     1   @Base/array.jl:801; getindex\n",
      "   ╎    ╎    ╎    ╎   2   @Base/sort.jl:605; sort!(v::Vector{Float...\n",
      "   ╎    ╎    ╎    ╎    2   @Base/sort.jl:599; sort!(v::Vector{Float...\n",
      "   ╎    ╎    ╎    ╎     1   @Base/sort.jl:533; sort!(v::Vector{Floa...\n",
      "  1╎    ╎    ╎    ╎    ╎ 1   @Base/array.jl:839; setindex!\n",
      "   ╎    ╎    ╎    ╎     1   @Base/sort.jl:539; sort!(v::Vector{Floa...\n",
      "  1╎    ╎    ╎    ╎    ╎ 1   @Base/range.jl:674; iterate\n",
      "   ╎    ╎    ╎    ╎   3   @Base/sort.jl:608; sort!(v::Vector{Float...\n",
      "   ╎    ╎    ╎    ╎    2   @Base/sort.jl:599; sort!(v::Vector{Float...\n",
      "   ╎    ╎    ╎    ╎     1   @Base/sort.jl:531; sort!(v::Vector{Floa...\n",
      "   ╎    ╎    ╎    ╎    ╎ 1   ...operators.jl:305; >\n",
      "  1╎    ╎    ╎    ╎    ╎  1   @Base/int.jl:83; <\n",
      "   ╎    ╎    ╎    ╎     1   @Base/sort.jl:539; sort!(v::Vector{Floa...\n",
      "  1╎    ╎    ╎    ╎    ╎ 1   @Base/array.jl:839; setindex!\n",
      "   ╎    ╎    ╎    ╎    1   @Base/sort.jl:605; sort!(v::Vector{Float...\n",
      "   ╎    ╎    ╎    ╎     1   @Base/sort.jl:599; sort!(v::Vector{Floa...\n",
      "   ╎    ╎    ╎    ╎    ╎ 1   @Base/sort.jl:533; sort!(v::Vector{Flo...\n",
      "  1╎    ╎    ╎    ╎    ╎  1   @Base/array.jl:839; setindex!\n",
      "  2╎2   ...Random/src/normal.jl:71; randn_unlikely(rng::Random.Merse...\n",
      "Total snapshots: 663\n"
     ]
    }
   ],
   "source": [
    "Profile.print()"
   ]
  },
  {
   "cell_type": "code",
   "execution_count": 36,
   "metadata": {},
   "outputs": [],
   "source": [
    "Profile.clear()"
   ]
  },
  {
   "cell_type": "code",
   "execution_count": 37,
   "metadata": {},
   "outputs": [
    {
     "name": "stderr",
     "output_type": "stream",
     "text": [
      "Gtk-Message: 02:30:03.820: Failed to load module \"canberra-gtk-module\"\n",
      "Gtk-Message: 02:30:03.821: Failed to load module \"canberra-gtk-module\"\n"
     ]
    }
   ],
   "source": [
    "using ProfileView"
   ]
  },
  {
   "cell_type": "code",
   "execution_count": 38,
   "metadata": {},
   "outputs": [
    {
     "data": {
      "text/plain": [
       "Gtk.GtkWindowLeaf(name=\"\", parent, width-request=-1, height-request=-1, visible=TRUE, sensitive=TRUE, app-paintable=FALSE, can-focus=FALSE, has-focus=FALSE, is-focus=FALSE, focus-on-click=TRUE, can-default=FALSE, has-default=FALSE, receives-default=FALSE, composite-child=FALSE, style, events=0, no-show-all=FALSE, has-tooltip=FALSE, tooltip-markup=NULL, tooltip-text=NULL, window, opacity=1.000000, double-buffered, halign=GTK_ALIGN_FILL, valign=GTK_ALIGN_FILL, margin-left, margin-right, margin-start=0, margin-end=0, margin-top=0, margin-bottom=0, margin=0, hexpand=FALSE, vexpand=FALSE, hexpand-set=FALSE, vexpand-set=FALSE, expand=FALSE, scale-factor=1, border-width=0, resize-mode, child, type=GTK_WINDOW_TOPLEVEL, title=\"Profile\", role=NULL, resizable=TRUE, modal=FALSE, window-position=GTK_WIN_POS_NONE, default-width=800, default-height=600, destroy-with-parent=FALSE, hide-titlebar-when-maximized=FALSE, icon, icon-name=NULL, screen, type-hint=GDK_WINDOW_TYPE_HINT_NORMAL, skip-taskbar-hint=FALSE, skip-pager-hint=FALSE, urgency-hint=FALSE, accept-focus=TRUE, focus-on-map=TRUE, decorated=TRUE, deletable=TRUE, gravity=GDK_GRAVITY_NORTH_WEST, transient-for, attached-to, has-resize-grip, resize-grip-visible, application, is-active=TRUE, has-toplevel-focus=TRUE, startup-id, mnemonics-visible=FALSE, focus-visible=FALSE, is-maximized=FALSE)"
      ]
     },
     "execution_count": 38,
     "metadata": {},
     "output_type": "execute_result"
    }
   ],
   "source": [
    "@profview profile_test(100)"
   ]
  },
  {
   "cell_type": "markdown",
   "metadata": {},
   "source": [
    "## 11.5 Guidance for High Performance Code\n",
    "\n",
    "In chapter-9, we used some general functional programming patterns to address some standard programmimng challenges. Here we shall look at some patterns that help address some performance bottlenecks in code.    \n",
    "\n",
    "### Memoization\n",
    "\n",
    "Using cache can help reduce computations as previous computations can be reused.  "
   ]
  },
  {
   "cell_type": "code",
   "execution_count": 39,
   "metadata": {},
   "outputs": [
    {
     "data": {
      "text/plain": [
       "fib (generic function with 1 method)"
      ]
     },
     "execution_count": 39,
     "metadata": {},
     "output_type": "execute_result"
    }
   ],
   "source": [
    "using BenchmarkTools\n",
    "fib(n) = n < 3 ? 1 : fib(n-1) + fib(n-2)"
   ]
  },
  {
   "cell_type": "code",
   "execution_count": 40,
   "metadata": {},
   "outputs": [
    {
     "data": {
      "text/plain": [
       "fib (generic function with 1 method)"
      ]
     },
     "execution_count": 40,
     "metadata": {},
     "output_type": "execute_result"
    }
   ],
   "source": [
    "function fib(n)\n",
    "    if n < 3\n",
    "        return (result=1, calls=1)\n",
    "    else\n",
    "        r1, c1 = fib(n-2)\n",
    "        r2, c2 = fib(n-1)\n",
    "        return (result=r1+r2, calls=1+c1+c2)\n",
    "    end\n",
    "end"
   ]
  },
  {
   "cell_type": "code",
   "execution_count": 41,
   "metadata": {},
   "outputs": [
    {
     "name": "stdout",
     "output_type": "stream",
     "text": [
      "n:1\tresult: 1\tcalls: 1\n",
      "n:2\tresult: 1\tcalls: 1\n",
      "n:3\tresult: 2\tcalls: 3\n",
      "n:4\tresult: 3\tcalls: 5\n",
      "n:5\tresult: 5\tcalls: 9\n",
      "n:6\tresult: 8\tcalls: 15\n",
      "n:7\tresult: 13\tcalls: 25\n",
      "n:8\tresult: 21\tcalls: 41\n",
      "n:9\tresult: 34\tcalls: 67\n",
      "n:10\tresult: 55\tcalls: 109\n"
     ]
    }
   ],
   "source": [
    "for i = 1:10\n",
    "    r, c = fib(i)\n",
    "    println(\"n:\", i, \"\\tresult: \", r, \"\\tcalls: \", c)\n",
    "end"
   ]
  },
  {
   "cell_type": "code",
   "execution_count": 42,
   "metadata": {},
   "outputs": [
    {
     "name": "stdout",
     "output_type": "stream",
     "text": [
      "  31.367 μs (0 allocations: 0 bytes)\n"
     ]
    },
    {
     "data": {
      "text/plain": [
       "(result = 6765, calls = 13529)"
      ]
     },
     "execution_count": 42,
     "metadata": {},
     "output_type": "execute_result"
    }
   ],
   "source": [
    "@btime fib(20)"
   ]
  },
  {
   "cell_type": "code",
   "execution_count": 43,
   "metadata": {},
   "outputs": [
    {
     "data": {
      "text/plain": [
       "Dict{Any, Any}()"
      ]
     },
     "execution_count": 43,
     "metadata": {},
     "output_type": "execute_result"
    }
   ],
   "source": [
    "const mem = Dict()"
   ]
  },
  {
   "cell_type": "code",
   "execution_count": 44,
   "metadata": {},
   "outputs": [
    {
     "data": {
      "text/plain": [
       "fib (generic function with 1 method)"
      ]
     },
     "execution_count": 44,
     "metadata": {},
     "output_type": "execute_result"
    }
   ],
   "source": [
    "function fib(n)\n",
    "    haskey(mem, n) && return mem[n]\n",
    "    println(\"Calling fib: \", n)\n",
    "    res = n < 3 ? 1 : fib(n-1) + fib(n-2)\n",
    "    mem[n] = res\n",
    "    return res\n",
    "end\n",
    "        "
   ]
  },
  {
   "cell_type": "code",
   "execution_count": 45,
   "metadata": {},
   "outputs": [
    {
     "name": "stdout",
     "output_type": "stream",
     "text": [
      "Calling fib: 5\n",
      "Calling fib: 4\n",
      "Calling fib: 3\n",
      "Calling fib: 2\n",
      "Calling fib: 1\n"
     ]
    },
    {
     "data": {
      "text/plain": [
       "5"
      ]
     },
     "execution_count": 45,
     "metadata": {},
     "output_type": "execute_result"
    }
   ],
   "source": [
    "fib(5)"
   ]
  },
  {
   "cell_type": "code",
   "execution_count": 46,
   "metadata": {},
   "outputs": [
    {
     "name": "stdout",
     "output_type": "stream",
     "text": [
      "Calling fib: 20\n",
      "Calling fib: 19\n",
      "Calling fib: 18\n",
      "Calling fib: 17\n",
      "Calling fib: 16\n",
      "Calling fib: 15\n",
      "Calling fib: 14\n",
      "Calling fib: 13\n",
      "Calling fib: 12\n",
      "Calling fib: 11\n",
      "Calling fib: 10\n",
      "Calling fib: 9\n",
      "Calling fib: 8\n",
      "Calling fib: 7\n",
      "Calling fib: 6\n",
      "  22.028 ns (0 allocations: 0 bytes)\n"
     ]
    },
    {
     "data": {
      "text/plain": [
       "6765"
      ]
     },
     "execution_count": 46,
     "metadata": {},
     "output_type": "execute_result"
    }
   ],
   "source": [
    "@btime fib(20)"
   ]
  },
  {
   "cell_type": "code",
   "execution_count": 47,
   "metadata": {},
   "outputs": [
    {
     "data": {
      "text/plain": [
       "fib (generic function with 1 method)"
      ]
     },
     "execution_count": 47,
     "metadata": {},
     "output_type": "execute_result"
    }
   ],
   "source": [
    "fib(n) = n < 3 ? 1 : fib(n-1) + fib(n-2)"
   ]
  },
  {
   "cell_type": "code",
   "execution_count": 48,
   "metadata": {},
   "outputs": [
    {
     "data": {
      "text/plain": [
       "memoize (generic function with 1 method)"
      ]
     },
     "execution_count": 48,
     "metadata": {},
     "output_type": "execute_result"
    }
   ],
   "source": [
    "function memoize(f)\n",
    "    memo = Dict()\n",
    "    (args...; kwargs...) -> begin\n",
    "        x = (args, kwargs)\n",
    "        haskey(memo, x) && return memo[x]\n",
    "        v = f(args...; kwargs...)\n",
    "        memo[x] = v\n",
    "        return v\n",
    "    end\n",
    "end"
   ]
  },
  {
   "cell_type": "code",
   "execution_count": 49,
   "metadata": {},
   "outputs": [
    {
     "data": {
      "text/plain": [
       "#29 (generic function with 1 method)"
      ]
     },
     "execution_count": 49,
     "metadata": {},
     "output_type": "execute_result"
    }
   ],
   "source": [
    "fib! = memoize(fib)"
   ]
  },
  {
   "cell_type": "code",
   "execution_count": 50,
   "metadata": {},
   "outputs": [
    {
     "name": "stdout",
     "output_type": "stream",
     "text": [
      "  36.380 ns (0 allocations: 0 bytes)\n"
     ]
    },
    {
     "data": {
      "text/plain": [
       "102334155"
      ]
     },
     "execution_count": 50,
     "metadata": {},
     "output_type": "execute_result"
    }
   ],
   "source": [
    "@btime fib!(40)"
   ]
  },
  {
   "cell_type": "code",
   "execution_count": 51,
   "metadata": {},
   "outputs": [
    {
     "name": "stdout",
     "output_type": "stream",
     "text": [
      "  376.974 ms (0 allocations: 0 bytes)\n"
     ]
    },
    {
     "data": {
      "text/plain": [
       "102334155"
      ]
     },
     "execution_count": 51,
     "metadata": {},
     "output_type": "execute_result"
    }
   ],
   "source": [
    "@btime fib(40)"
   ]
  },
  {
   "cell_type": "markdown",
   "metadata": {},
   "source": [
    "### Global Variables\n",
    "\n",
    "The Julia global variables cannot have a declared type. Hence, the performance can be significantly affected when such variables are in use. "
   ]
  },
  {
   "cell_type": "code",
   "execution_count": 52,
   "metadata": {},
   "outputs": [
    {
     "data": {
      "text/plain": [
       "3"
      ]
     },
     "execution_count": 52,
     "metadata": {},
     "output_type": "execute_result"
    }
   ],
   "source": [
    "GLOBAL_VAR = 3"
   ]
  },
  {
   "cell_type": "code",
   "execution_count": 53,
   "metadata": {},
   "outputs": [
    {
     "data": {
      "text/plain": [
       "add_to_global (generic function with 1 method)"
      ]
     },
     "execution_count": 53,
     "metadata": {},
     "output_type": "execute_result"
    }
   ],
   "source": [
    "function add_to_global(x) \n",
    "    x + GLOBAL_VAR\n",
    "end"
   ]
  },
  {
   "cell_type": "code",
   "execution_count": 54,
   "metadata": {},
   "outputs": [
    {
     "name": "stdout",
     "output_type": "stream",
     "text": [
      "  22.364 ns (0 allocations: 0 bytes)\n"
     ]
    },
    {
     "data": {
      "text/plain": [
       "13"
      ]
     },
     "execution_count": 54,
     "metadata": {},
     "output_type": "execute_result"
    }
   ],
   "source": [
    "@btime add_to_global(10)"
   ]
  },
  {
   "cell_type": "markdown",
   "metadata": {},
   "source": [
    "Contrast this to a simple addition operation. The global variables are inefficient as they are not type safe. "
   ]
  },
  {
   "cell_type": "code",
   "execution_count": 55,
   "metadata": {},
   "outputs": [
    {
     "name": "stdout",
     "output_type": "stream",
     "text": [
      "  0.030 ns (0 allocations: 0 bytes)\n"
     ]
    },
    {
     "data": {
      "text/plain": [
       "13"
      ]
     },
     "execution_count": 55,
     "metadata": {},
     "output_type": "execute_result"
    }
   ],
   "source": [
    "@btime 10 + $GLOBAL_VAR"
   ]
  },
  {
   "cell_type": "markdown",
   "metadata": {},
   "source": [
    "When we use a const instead of a variable, we see significant performance gain. "
   ]
  },
  {
   "cell_type": "code",
   "execution_count": 56,
   "metadata": {},
   "outputs": [
    {
     "name": "stdout",
     "output_type": "stream",
     "text": [
      "  0.031 ns (0 allocations: 0 bytes)\n"
     ]
    },
    {
     "data": {
      "text/plain": [
       "23"
      ]
     },
     "execution_count": 56,
     "metadata": {},
     "output_type": "execute_result"
    }
   ],
   "source": [
    "const GLOBAL_CONST = 20\n",
    "add_to_global_const(x) = x + GLOBAL_CONST\n",
    "@btime add_to_global_const(3)"
   ]
  },
  {
   "cell_type": "markdown",
   "metadata": {},
   "source": [
    "Here 20 as a constant is used in the addition operation. "
   ]
  },
  {
   "cell_type": "code",
   "execution_count": 57,
   "metadata": {},
   "outputs": [
    {
     "name": "stdout",
     "output_type": "stream",
     "text": [
      "\u001b[90m;  @ In[56]:2 within `add_to_global_const'\u001b[39m\n",
      "\u001b[95mdefine\u001b[39m \u001b[36mi64\u001b[39m \u001b[93m@julia_add_to_global_const_5858\u001b[39m\u001b[33m(\u001b[39m\u001b[36mi64\u001b[39m \u001b[95msignext\u001b[39m \u001b[0m%0\u001b[33m)\u001b[39m \u001b[33m{\u001b[39m\n",
      "\u001b[91mtop:\u001b[39m\n",
      "\u001b[90m; ┌ @ int.jl:87 within `+'\u001b[39m\n",
      "   \u001b[0m%1 \u001b[0m= \u001b[96m\u001b[1madd\u001b[22m\u001b[39m \u001b[36mi64\u001b[39m \u001b[0m%0\u001b[0m, \u001b[33m20\u001b[39m\n",
      "\u001b[90m; └\u001b[39m\n",
      "  \u001b[96m\u001b[1mret\u001b[22m\u001b[39m \u001b[36mi64\u001b[39m \u001b[0m%1\n",
      "\u001b[33m}\u001b[39m\n"
     ]
    }
   ],
   "source": [
    "@code_llvm add_to_global_const(3)"
   ]
  },
  {
   "cell_type": "code",
   "execution_count": 58,
   "metadata": {},
   "outputs": [
    {
     "data": {
      "text/plain": [
       "Base.RefValue{Int64}(10)"
      ]
     },
     "execution_count": 58,
     "metadata": {},
     "output_type": "execute_result"
    }
   ],
   "source": [
    "const GLOBAL_REF = Ref(10)"
   ]
  },
  {
   "cell_type": "code",
   "execution_count": 59,
   "metadata": {},
   "outputs": [
    {
     "data": {
      "text/plain": [
       "add_to_global_ref (generic function with 1 method)"
      ]
     },
     "execution_count": 59,
     "metadata": {},
     "output_type": "execute_result"
    }
   ],
   "source": [
    "add_to_global_ref(x) = x + GLOBAL_REF[]"
   ]
  },
  {
   "cell_type": "markdown",
   "metadata": {},
   "source": [
    "The code has two parts. Load the value from the memory to a local volatile memory or register. Perform the addition operation in the register. "
   ]
  },
  {
   "cell_type": "code",
   "execution_count": 60,
   "metadata": {},
   "outputs": [
    {
     "name": "stdout",
     "output_type": "stream",
     "text": [
      "\u001b[90m;  @ In[59]:1 within `add_to_global_ref'\u001b[39m\n",
      "\u001b[95mdefine\u001b[39m \u001b[36mi64\u001b[39m \u001b[93m@julia_add_to_global_ref_5934\u001b[39m\u001b[33m(\u001b[39m\u001b[36mi64\u001b[39m \u001b[95msignext\u001b[39m \u001b[0m%0\u001b[33m)\u001b[39m \u001b[33m{\u001b[39m\n",
      "\u001b[91mtop:\u001b[39m\n",
      "\u001b[90m; ┌ @ refvalue.jl:56 within `getindex'\u001b[39m\n",
      "\u001b[90m; │┌ @ Base.jl:33 within `getproperty'\u001b[39m\n",
      "    \u001b[0m%1 \u001b[0m= \u001b[96m\u001b[1mload\u001b[22m\u001b[39m \u001b[36mi64\u001b[39m\u001b[0m, \u001b[36mi64\u001b[39m\u001b[0m* \u001b[95minttoptr\u001b[39m \u001b[33m(\u001b[39m\u001b[36mi64\u001b[39m \u001b[33m140067213850240\u001b[39m \u001b[95mto\u001b[39m \u001b[36mi64\u001b[39m\u001b[0m*\u001b[33m)\u001b[39m\u001b[0m, \u001b[95malign\u001b[39m \u001b[33m128\u001b[39m\n",
      "\u001b[90m; └└\u001b[39m\n",
      "\u001b[90m; ┌ @ int.jl:87 within `+'\u001b[39m\n",
      "   \u001b[0m%2 \u001b[0m= \u001b[96m\u001b[1madd\u001b[22m\u001b[39m \u001b[36mi64\u001b[39m \u001b[0m%1\u001b[0m, \u001b[0m%0\n",
      "\u001b[90m; └\u001b[39m\n",
      "  \u001b[96m\u001b[1mret\u001b[22m\u001b[39m \u001b[36mi64\u001b[39m \u001b[0m%2\n",
      "\u001b[33m}\u001b[39m\n"
     ]
    }
   ],
   "source": [
    "@code_llvm add_to_global_ref(3)"
   ]
  },
  {
   "cell_type": "code",
   "execution_count": 61,
   "metadata": {},
   "outputs": [
    {
     "data": {
      "text/plain": [
       "add_to_global_ref (generic function with 1 method)"
      ]
     },
     "execution_count": 61,
     "metadata": {},
     "output_type": "execute_result"
    }
   ],
   "source": [
    "add_to_global_ref(x) = x + GLOBAL_REF[]"
   ]
  },
  {
   "cell_type": "code",
   "execution_count": 62,
   "metadata": {},
   "outputs": [
    {
     "name": "stdout",
     "output_type": "stream",
     "text": [
      "  2.170 ns (0 allocations: 0 bytes)\n"
     ]
    },
    {
     "data": {
      "text/plain": [
       "13"
      ]
     },
     "execution_count": 62,
     "metadata": {},
     "output_type": "execute_result"
    }
   ],
   "source": [
    "@btime add_to_global_ref(3)"
   ]
  },
  {
   "cell_type": "markdown",
   "metadata": {},
   "source": [
    "You can easily wrap a `Ref` inside an accessor pattern as well. "
   ]
  },
  {
   "cell_type": "code",
   "execution_count": 63,
   "metadata": {},
   "outputs": [
    {
     "data": {
      "text/plain": [
       "X (generic function with 2 methods)"
      ]
     },
     "execution_count": 63,
     "metadata": {},
     "output_type": "execute_result"
    }
   ],
   "source": [
    "let _x = Ref(5)\n",
    "    global X() = _x[]\n",
    "    global X(y) = (_x[] = y)\n",
    "end"
   ]
  },
  {
   "cell_type": "code",
   "execution_count": 64,
   "metadata": {},
   "outputs": [
    {
     "name": "stdout",
     "output_type": "stream",
     "text": [
      "  1.883 ns (0 allocations: 0 bytes)\n"
     ]
    },
    {
     "data": {
      "text/plain": [
       "5"
      ]
     },
     "execution_count": 64,
     "metadata": {},
     "output_type": "execute_result"
    }
   ],
   "source": [
    "@btime X()"
   ]
  },
  {
   "cell_type": "code",
   "execution_count": 65,
   "metadata": {},
   "outputs": [
    {
     "name": "stdout",
     "output_type": "stream",
     "text": [
      "  1.882 ns (0 allocations: 0 bytes)\n"
     ]
    },
    {
     "data": {
      "text/plain": [
       "10"
      ]
     },
     "execution_count": 65,
     "metadata": {},
     "output_type": "execute_result"
    }
   ],
   "source": [
    "@btime X(10)"
   ]
  },
  {
   "cell_type": "markdown",
   "metadata": {},
   "source": [
    "## 11.6 Conclusion"
   ]
  },
  {
   "cell_type": "markdown",
   "metadata": {},
   "source": [
    "## Exercises"
   ]
  }
 ],
 "metadata": {
  "@webio": {
   "lastCommId": null,
   "lastKernelId": null
  },
  "kernelspec": {
   "display_name": "Julia 1.6.7",
   "language": "julia",
   "name": "julia-1.6"
  },
  "language_info": {
   "file_extension": ".jl",
   "mimetype": "application/julia",
   "name": "julia",
   "version": "1.6.0"
  }
 },
 "nbformat": 4,
 "nbformat_minor": 4
}
